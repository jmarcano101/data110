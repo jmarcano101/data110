{
  "nbformat": 4,
  "nbformat_minor": 0,
  "metadata": {
    "colab": {
      "private_outputs": true,
      "provenance": []
    },
    "kernelspec": {
      "name": "python3",
      "display_name": "Python 3"
    },
    "language_info": {
      "name": "python"
    }
  },
  "cells": [
    {
      "cell_type": "markdown",
      "source": [
        "# Installing necessary packages for data analysis and visualization"
      ],
      "metadata": {
        "id": "i9ckS-LiqHh5"
      }
    },
    {
      "cell_type": "code",
      "source": [
        "!pip install rpy2\n",
        "!pip install joypy\n",
        "\n"
      ],
      "metadata": {
        "id": "ua6kgYmGZ2xJ"
      },
      "execution_count": null,
      "outputs": []
    },
    {
      "cell_type": "markdown",
      "source": [
        "# Importing libraries for data manipulation, visualization, and R integration"
      ],
      "metadata": {
        "id": "oOD8QFuIqhrJ"
      }
    },
    {
      "cell_type": "code",
      "source": [
        "import rpy2.robjects as ro\n",
        "from rpy2.robjects import pandas2ri\n",
        "from rpy2.robjects.conversion import localconverter\n",
        "import pandas as pd\n",
        "import seaborn as sns\n",
        "import matplotlib.pyplot as plt\n",
        "import numpy as np\n",
        "from joypy import joyplot"
      ],
      "metadata": {
        "id": "eF2OW224p2x8"
      },
      "execution_count": null,
      "outputs": []
    },
    {
      "cell_type": "markdown",
      "source": [
        "# Converting an R data frame from RDS format to a Pandas DataFrame and saving it as a CSV file"
      ],
      "metadata": {
        "id": "pBxa2YEpquoC"
      }
    },
    {
      "cell_type": "code",
      "source": [
        "\n",
        "\n",
        "# Enable automatic conversion between R and Pandas data frames\n",
        "pandas2ri.activate()\n",
        "\n",
        "# Define the path to your RDS file and the desired output CSV file path\n",
        "rds_file_path = '/content/lincoln_temps.rds'\n",
        "csv_file_path = '/content/lincoln_temps.csv'\n",
        "\n",
        "# Load the RDS file using R's readRDS function\n",
        "read_rds = ro.r['readRDS']\n",
        "df_r = read_rds(rds_file_path)\n",
        "\n",
        "# Convert the R data frame to a Pandas data frame\n",
        "with localconverter(ro.default_converter + pandas2ri.converter):\n",
        "  df_pandas = ro.conversion.rpy2py(df_r)\n",
        "\n",
        "# Save the Pandas data frame to a CSV file\n",
        "df_pandas.to_csv(csv_file_path, index=False)\n"
      ],
      "metadata": {
        "id": "Pwe8gRwTZ4Vv"
      },
      "execution_count": null,
      "outputs": []
    },
    {
      "cell_type": "markdown",
      "source": [
        "#Load the CSV file into a DataFrame:"
      ],
      "metadata": {
        "id": "OHAmUO6eq87N"
      }
    },
    {
      "cell_type": "code",
      "source": [
        "df=pd.read_csv('/content/lincoln_temps.csv')\n",
        "df.head()\n",
        "df.info()"
      ],
      "metadata": {
        "id": "g2OtsktdbN-V"
      },
      "execution_count": null,
      "outputs": []
    },
    {
      "cell_type": "markdown",
      "source": [
        "#Examples 1: Boxplot\n",
        "Creating a boxplot to visualize the distribution of mean temperatures across different months"
      ],
      "metadata": {
        "id": "-ek7mXUThoK-"
      }
    },
    {
      "cell_type": "code",
      "source": [
        "sns.boxplot(x='month_long', y='mean_temp', data=df)\n"
      ],
      "metadata": {
        "id": "yP2HuAuXcFdM"
      },
      "execution_count": null,
      "outputs": []
    },
    {
      "cell_type": "markdown",
      "source": [
        "# Enhancing the Visualization of Mean Temperature Distribution by Month"
      ],
      "metadata": {
        "id": "h92UvDZgrj3e"
      }
    },
    {
      "cell_type": "code",
      "source": [
        "\n",
        "\n",
        "# Create a boxplot using 'df' as your DataFrame\n",
        "sns.boxplot(x='month_long', y='mean_temp', data=df, color=\"skyblue\")\n",
        "\n",
        "# Optional: Enhance plot readability\n",
        "plt.xticks(rotation=90)  # Rotate the month names for better readability\n",
        "plt.tight_layout()  # Adjust layout to make room for the rotated x-axis labels\n",
        "plt.show()\n"
      ],
      "metadata": {
        "id": "GF1oPbDoc5Cy"
      },
      "execution_count": null,
      "outputs": []
    },
    {
      "cell_type": "code",
      "source": [
        "\n",
        "# Create a boxplot using 'df' as your DataFrame\n",
        "sns.boxplot(x='month_long', y='mean_temp', data=df, color=\"skyblue\")\n",
        "\n",
        "# Optional: Enhance plot readability\n",
        "plt.xticks(rotation=45)  # Rotate the month names for better readability\n",
        "plt.title('Mean Temperature by Month in Lincoln')\n",
        "plt.xlabel('Month')\n",
        "plt.ylabel('Mean Temperature')\n",
        "\n",
        "plt.tight_layout()  # Adjust layout to make room for the rotated x-axis labels\n",
        "plt.show()\n"
      ],
      "metadata": {
        "id": "oQ_652Aqdp1l"
      },
      "execution_count": null,
      "outputs": []
    },
    {
      "cell_type": "markdown",
      "source": [
        " # Rotate the month names for better readability"
      ],
      "metadata": {
        "id": "9vlM7kzCrxyf"
      }
    },
    {
      "cell_type": "code",
      "source": [
        "\n",
        "# Create a boxplot using 'df' as your DataFrame\n",
        "sns.boxplot(x='month_long', y='mean_temp', data=df, color=\"skyblue\")\n",
        "plt.xticks(rotation='vertical')  # Rotate the month names for better readability\n",
        "plt.title('Mean Temperature by Month in Lincoln')\n",
        "plt.xlabel('Month')\n",
        "plt.ylabel('Mean Temperature')\n",
        "\n",
        "plt.tight_layout()  # Adjust layout to make room for the rotated x-axis labels\n",
        "plt.show()\n"
      ],
      "metadata": {
        "id": "EH5uuyJleKbH"
      },
      "execution_count": null,
      "outputs": []
    },
    {
      "cell_type": "markdown",
      "source": [
        "# Set new labels directly, assuming there are 12 months and they are all represented"
      ],
      "metadata": {
        "id": "4e4ohYXMr22_"
      }
    },
    {
      "cell_type": "code",
      "source": [
        "plt.figure(figsize=(10,8))\n",
        "\n",
        "# Assume 'df' is your DataFrame and you've plotted your boxplot as before\n",
        "sns.boxplot(x='month_long', y='mean_temp', data=df, color=\"skyblue\")\n",
        "\n",
        "# Define abbreviated month names as labels\n",
        "month_labels = ['Jan', 'Feb', 'Mar', 'Apr', 'May', 'Jun', 'Jul', 'Aug', 'Sep', 'Oct', 'Nov', 'Dec']\n",
        "\n",
        "# Set new labels directly, assuming there are 12 months and they are all represented\n",
        "plt.xticks(range(len(month_labels)), month_labels)\n",
        "\n",
        "plt.title('Mean Temperature by Month in Lincoln')\n",
        "plt.xlabel('Month')\n",
        "plt.ylabel('Mean Temperature')\n",
        "plt.show()\n"
      ],
      "metadata": {
        "id": "S3Xci16cfZKm"
      },
      "execution_count": null,
      "outputs": []
    },
    {
      "cell_type": "markdown",
      "source": [
        "# Styling and Customizing a Boxplot for Mean Temperature Distribution by Month"
      ],
      "metadata": {
        "id": "a1qtmDVCsTiq"
      }
    },
    {
      "cell_type": "code",
      "source": [
        "plt.style.use('fivethirtyeight')\n",
        "plt.figure(figsize=(10,8))\n",
        "\n",
        "# Assume 'df' is your DataFrame and you've plotted your boxplot as before\n",
        "sns.boxplot(x='month_long', y='mean_temp', data=df, color=\"skyblue\")\n",
        "\n",
        "# Define abbreviated month names as labels\n",
        "month_labels = ['Jan', 'Feb', 'Mar', 'Apr', 'May', 'Jun', 'Jul', 'Aug', 'Sep', 'Oct', 'Nov', 'Dec']\n",
        "\n",
        "# Set new labels directly, assuming there are 12 months and they are all represented\n",
        "plt.xticks(range(len(month_labels)), month_labels)\n",
        "\n",
        "plt.title('Mean Temperature by Month in Lincoln')\n",
        "plt.xlabel('Month')\n",
        "plt.ylabel('Mean Temperature')\n",
        "plt.show()\n"
      ],
      "metadata": {
        "id": "rSt8gb5MfqHa"
      },
      "execution_count": null,
      "outputs": []
    },
    {
      "cell_type": "code",
      "source": [
        "plt.figure(figsize=(10,8))\n",
        "# Set the theme\n",
        "sns.set_theme(style=\"darkgrid\")\n",
        "\n",
        "# Define abbreviated month names as labels\n",
        "month_labels = ['Jan', 'Feb', 'Mar', 'Apr', 'May', 'Jun', 'Jul', 'Aug', 'Sep', 'Oct', 'Nov', 'Dec']\n",
        "\n",
        "# Create the boxplot\n",
        "sns.boxplot(x='month_long', y='mean_temp', data=df, color=\"skyblue\")\n",
        "\n",
        "# Set custom x-axis tick labels\n",
        "plt.xticks(range(len(month_labels)), month_labels)\n",
        "\n",
        "# Customize the plot\n",
        "plt.title('Mean Temperature by Month in Lincoln', fontsize=16)  # Set title with custom font size\n",
        "plt.xlabel('Month', fontsize=14)  # Customize x-axis label\n",
        "plt.ylabel('Mean Temperature', fontsize=14)  # Customize y-axis label\n",
        "plt.tick_params(labelsize=12)  # Customize tick parameters\n",
        "\n",
        "plt.show()\n",
        "\n"
      ],
      "metadata": {
        "id": "eQy7iiYigb_a"
      },
      "execution_count": null,
      "outputs": []
    },
    {
      "cell_type": "markdown",
      "source": [],
      "metadata": {
        "id": "gH31e0R2sb44"
      }
    },
    {
      "cell_type": "code",
      "source": [
        "import matplotlib.style\n",
        "matplotlib.style.available"
      ],
      "metadata": {
        "id": "_ThKOVP5g-_A"
      },
      "execution_count": null,
      "outputs": []
    },
    {
      "cell_type": "markdown",
      "source": [
        "#Examples: Violins"
      ],
      "metadata": {
        "id": "vLpOAmSThcc-"
      }
    },
    {
      "cell_type": "code",
      "source": [
        "# Create the violin plot\n",
        "sns.violinplot(x='month_long', y='mean_temp', data=df, inner=None, color=\"skyblue\")\n",
        "\n",
        "# Customizing the plot\n",
        "plt.title('Distribution of Mean Temperatures by Month in Lincoln')\n",
        "plt.xlabel('Month')\n",
        "plt.ylabel('Mean Temperature')\n",
        "\n",
        "# Rotate the x-axis labels for better readability if needed\n",
        "plt.xticks(rotation=45)\n",
        "plt.show()"
      ],
      "metadata": {
        "id": "YcCY3oiOhMT8"
      },
      "execution_count": null,
      "outputs": []
    },
    {
      "cell_type": "markdown",
      "source": [],
      "metadata": {
        "id": "UDidOmYTtfiU"
      }
    },
    {
      "cell_type": "markdown",
      "source": [
        "# Create the strip plot"
      ],
      "metadata": {
        "id": "5D-gnebltpHV"
      }
    },
    {
      "cell_type": "code",
      "source": [
        "# Create the strip plot\n",
        "sns.stripplot(x='month_long', y='mean_temp', data=df, color=\"skyblue\", jitter=False)\n",
        "plt.show()\n"
      ],
      "metadata": {
        "id": "-_3Ct0mHjxoJ"
      },
      "execution_count": null,
      "outputs": []
    },
    {
      "cell_type": "markdown",
      "source": [
        "Whether adding more jitter to a plot is good or bad depends on the context of your data visualization needs:\n",
        "\n",
        "- **Good**: More jitter can be beneficial when you have a large number of overlapping data points within categories. It spreads out the points more significantly, making it easier to visually distinguish between them and to observe the density and distribution of data points within each category.\n",
        "\n",
        "- **Bad**: However, adding too much jitter can also distort the visual representation of your data. It may spread the points too far from their actual categories, making it harder to associate them with the correct category and potentially misleading the interpretation of the data's actual distribution.\n",
        "\n",
        "In summary, the optimal amount of jitter should be determined based on the specific requirements of your visualization and the characteristics of your dataset. It's about finding a balance that improves readability without compromising the integrity of the data's representation.\n"
      ],
      "metadata": {
        "id": "T29nYKEZuJzp"
      }
    },
    {
      "cell_type": "code",
      "source": [
        "\n",
        "\n",
        "# Set the theme for a clean background\n",
        "sns.set_theme(style=\"whitegrid\")\n",
        "\n",
        "# Create the strip plot\n",
        "sns.stripplot(x='month_long', y='mean_temp', data=df, color=\"skyblue\", jitter=False)\n",
        "\n",
        "# Customize the plot\n",
        "plt.title('Mean Temperature by Month in Lincoln (No Jitter)')\n",
        "plt.xlabel('Month')\n",
        "plt.ylabel('Mean Temperature')\n",
        "\n",
        "plt.xticks(range(len(month_labels)), month_labels)\n",
        "\n",
        "plt.show()\n"
      ],
      "metadata": {
        "id": "DkI3iOO-j45W"
      },
      "execution_count": null,
      "outputs": []
    },
    {
      "cell_type": "code",
      "source": [
        "# Set the theme for a clean background\n",
        "sns.set_theme(style=\"whitegrid\")\n",
        "\n",
        "# Create the strip plot\n",
        "sns.stripplot(x='month_long', y='mean_temp', data=df, color=\"skyblue\", jitter=True)\n",
        "\n",
        "# Customize the plot\n",
        "plt.title('Mean Temperature by Month in Lincoln (Jitter)')\n",
        "plt.xlabel('Month')\n",
        "plt.ylabel('Mean Temperature')\n",
        "\n",
        "plt.xticks(range(len(month_labels)), month_labels)\n",
        "\n",
        "plt.show()"
      ],
      "metadata": {
        "id": "j34mFtoXkLXY"
      },
      "execution_count": null,
      "outputs": []
    },
    {
      "cell_type": "markdown",
      "source": [],
      "metadata": {
        "id": "pU8STB4DvDxc"
      }
    },
    {
      "cell_type": "code",
      "source": [
        "sns.stripplot(x='month_long', y='mean_temp', data=df, color=\"skyblue\", jitter=0.2)\n",
        "# Rotate the x-axis labels for better readability if needed\n",
        "plt.xticks(rotation=45)\n",
        "plt.show()"
      ],
      "metadata": {
        "id": "aHqK9x7sl3lq"
      },
      "execution_count": null,
      "outputs": []
    },
    {
      "cell_type": "code",
      "source": [
        "# Set the background style\n",
        "sns.set(style=\"whitegrid\")\n",
        "\n",
        "# Create a violin plot\n",
        "sns.violinplot(x='month_long', y='mean_temp', data=df, inner=None, color=\"skyblue\")\n",
        "\n",
        "# Overlay a strip plot with increased jitter to spread out the data points\n",
        "sns.stripplot(x='month_long', y='mean_temp', data=df, jitter=0.25, size=3, color='black', linewidth=0)\n",
        "\n",
        "plt.title('Sina-like Plot Example')\n",
        "plt.xticks(range(len(month_labels)), month_labels)\n",
        "plt.show()\n"
      ],
      "metadata": {
        "id": "5Y0IXu4vmrcc"
      },
      "execution_count": null,
      "outputs": []
    },
    {
      "cell_type": "markdown",
      "source": [
        "#Examples: Ridgeline plot\n",
        "\n",
        "### Creating a Ridgeline Plot to Visualize Temperature Distribution by Month\n",
        "\n",
        "The following code snippet demonstrates how to create a Ridgeline plot using the `joyplot` function from the `joypy` library. This visualization technique is particularly effective for displaying the distribution and density of a numerical variable (`mean_temp`) across different categories (`month_long`). By selecting the relevant columns from the DataFrame and specifying these as parameters in the `joyplot` function, we can generate a comprehensive view of how mean temperatures vary month by month.\n"
      ],
      "metadata": {
        "id": "9tgu8oIVoCQs"
      }
    },
    {
      "cell_type": "code",
      "source": [
        "data=df[['mean_temp', 'month_long']] # Selecting the relevant columns\n",
        "\n",
        "# Create the Ridgeline plot\n",
        "fig, axes = joyplot(df,\n",
        "    by='month_long',  # This groups data by month\n",
        "    column='mean_temp',  # This specifies which column to plot densities fo\n",
        ")\n",
        "plt.show()\n"
      ],
      "metadata": {
        "id": "NBGZdZKVpfMo"
      },
      "execution_count": null,
      "outputs": []
    },
    {
      "cell_type": "code",
      "source": [
        "# Create the Ridgeline plot\n",
        "fig, axes = joyplot(data,\n",
        "    by='month_long',  # This groups data by month\n",
        "    column='mean_temp',  # This specifies which column to plot densities for\n",
        "    figsize=(12, 8),  # Adjust the size of the plot as needed\n",
        "    colormap=plt.cm.viridis,  # Choose a colormap, e.g., viridis, plasma, inferno, magma\n",
        "    ylabelsize=12,  # Adjust the y-axis label size as needed\n",
        "    xlabelsize=12,  # Adjust the x-axis label size as needed\n",
        "    title=\"Ridgeline Plot of Mean Temperature by Month in Lincoln\",  # Add a title\n",
        "    alpha=0.75  # Adjust the transparency of the filled areas\n",
        ")\n",
        "\n",
        "plt.show()\n"
      ],
      "metadata": {
        "id": "TDP8GlDxoBwG"
      },
      "execution_count": null,
      "outputs": []
    }
  ]
}
