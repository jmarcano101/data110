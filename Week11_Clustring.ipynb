{
  "nbformat": 4,
  "nbformat_minor": 0,
  "metadata": {
    "colab": {
      "private_outputs": true,
      "provenance": [],
      "include_colab_link": true
    },
    "kernelspec": {
      "name": "python3",
      "display_name": "Python 3"
    },
    "language_info": {
      "name": "python"
    }
  },
  "cells": [
    {
      "cell_type": "markdown",
      "metadata": {
        "id": "view-in-github",
        "colab_type": "text"
      },
      "source": [
        "<a href=\"https://colab.research.google.com/github/jmarcano101/data110/blob/main/Week11_Clustring.ipynb\" target=\"_parent\"><img src=\"https://colab.research.google.com/assets/colab-badge.svg\" alt=\"Open In Colab\"/></a>"
      ]
    },
    {
      "cell_type": "code",
      "execution_count": null,
      "metadata": {
        "id": "vkazFDLp2s4o"
      },
      "outputs": [],
      "source": [
        "import numpy as np\n",
        "import matplotlib.pyplot as plt\n",
        "from sklearn.cluster import KMeans\n",
        "\n",
        "# Generate random data\n",
        "data = np.random.rand(300, 2)  # 300 points in 2D\n",
        "\n",
        "# Initialize and fit the KMeans model\n",
        "kmeans = KMeans(n_clusters=3)  # we choose 3 clusters\n",
        "kmeans.fit(data)\n",
        "\n",
        "# Predict the cluster for each data point\n",
        "y_kmeans = kmeans.predict(data)\n",
        "\n",
        "# Plot the clusters\n",
        "plt.scatter(data[:, 0], data[:, 1], c=y_kmeans, s=50, cmap='viridis')\n",
        "\n",
        "# Plot the centroids\n",
        "centers = kmeans.cluster_centers_\n",
        "plt.scatter(centers[:, 0], centers[:, 1], c='red', s=200, alpha=0.75)  # centroids in red\n",
        "plt.title(\"K-means Clustering\")\n",
        "plt.xlabel(\"Feature 1\")\n",
        "plt.ylabel(\"Feature 2\")\n",
        "plt.show()\n"
      ]
    },
    {
      "cell_type": "code",
      "source": [
        "import seaborn as sns\n",
        "import matplotlib.pyplot as plt\n",
        "from sklearn.cluster import KMeans\n",
        "\n",
        "# Load the dataset\n",
        "penguins = sns.load_dataset('penguins')\n",
        "penguins.dropna(subset=['bill_length_mm', 'bill_depth_mm'], inplace=True)  # remove rows with missing values in these columns\n",
        "\n",
        "# Select features\n",
        "features = penguins[['bill_length_mm', 'bill_depth_mm']]\n",
        "\n",
        "# Apply K-means clustering\n",
        "kmeans = KMeans(n_clusters=3)  # you can experiment with the number of clusters\n",
        "clusters = kmeans.fit_predict(features)\n",
        "\n",
        "# Plot the results\n",
        "plt.figure(figsize=(10, 6))\n",
        "plt.scatter(features['bill_length_mm'], features['bill_depth_mm'], c=clusters, cmap='viridis')\n",
        "centroids = kmeans.cluster_centers_\n",
        "plt.scatter(centroids[:, 0], centroids[:, 1], c='red', s=200, marker='X')  # mark centroids\n",
        "plt.title('Penguins Clustering based on Bill Dimensions (Non-standardized)')\n",
        "plt.xlabel('Bill Length (mm)')\n",
        "plt.ylabel('Bill Depth (mm)')\n",
        "plt.colorbar(label='Cluster')\n",
        "plt.show()\n"
      ],
      "metadata": {
        "id": "MBoRuXGc5VG_"
      },
      "execution_count": null,
      "outputs": []
    },
    {
      "cell_type": "code",
      "source": [
        "import numpy as np\n",
        "import matplotlib.pyplot as plt\n",
        "from sklearn import datasets\n",
        "from sklearn.cluster import KMeans\n",
        "from sklearn.decomposition import PCA\n",
        "\n",
        "# Load the dataset\n",
        "iris = datasets.load_iris()\n",
        "X = iris.data\n",
        "y = iris.target\n",
        "\n",
        "# Apply K-means clustering\n",
        "kmeans = KMeans(n_clusters=3)\n",
        "clusters = kmeans.fit_predict(X)\n",
        "\n",
        "# Dimensionality Reduction for Visualization\n",
        "pca = PCA(n_components=2)  # Reduce to two dimensions for visualization\n",
        "reduced_data = pca.fit_transform(X)\n",
        "\n",
        "# Plot the results\n",
        "plt.figure(figsize=(12, 6))\n",
        "colors = ['navy', 'turquoise', 'darkorange']\n",
        "\n",
        "# Plotting actual species\n",
        "plt.subplot(1, 2, 1)\n",
        "for color, i, target_name in zip(colors, [0, 1, 2], iris.target_names):\n",
        "    plt.scatter(reduced_data[y == i, 0], reduced_data[y == i, 1], color=color, alpha=0.8,\n",
        "                label=target_name)\n",
        "plt.title('Ground Truth (Iris Species)')\n",
        "plt.xlabel('PCA 1')\n",
        "plt.ylabel('PCA 2')\n",
        "plt.legend()\n",
        "\n",
        "# Plotting clustered data\n",
        "plt.subplot(1, 2, 2)\n",
        "for color, i in zip(colors, range(3)):\n",
        "    plt.scatter(reduced_data[clusters == i, 0], reduced_data[clusters == i, 1], color=color, alpha=0.8,\n",
        "                label=f'Cluster {i+1}')\n",
        "plt.title('K-means Clustering')\n",
        "plt.xlabel('PCA 1')\n",
        "plt.legend()\n",
        "\n",
        "plt.show()\n"
      ],
      "metadata": {
        "id": "Cts6-m0J526z"
      },
      "execution_count": null,
      "outputs": []
    },
    {
      "cell_type": "code",
      "source": [
        "print(np.random.rand(10, 2))"
      ],
      "metadata": {
        "id": "S1h4clVmN2x3"
      },
      "execution_count": null,
      "outputs": []
    }
  ]
}