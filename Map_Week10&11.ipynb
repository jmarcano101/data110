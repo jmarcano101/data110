{
  "nbformat": 4,
  "nbformat_minor": 0,
  "metadata": {
    "colab": {
      "private_outputs": true,
      "provenance": [],
      "include_colab_link": true
    },
    "kernelspec": {
      "name": "python3",
      "display_name": "Python 3"
    },
    "language_info": {
      "name": "python"
    }
  },
  "cells": [
    {
      "cell_type": "markdown",
      "metadata": {
        "id": "view-in-github",
        "colab_type": "text"
      },
      "source": [
        "<a href=\"https://colab.research.google.com/github/jmarcano101/data110/blob/main/Map_Week10%2611.ipynb\" target=\"_parent\"><img src=\"https://colab.research.google.com/assets/colab-badge.svg\" alt=\"Open In Colab\"/></a>"
      ]
    },
    {
      "cell_type": "code",
      "execution_count": null,
      "metadata": {
        "id": "IVpoMGb_8MfK"
      },
      "outputs": [],
      "source": [
        "!pip install folium\n"
      ]
    },
    {
      "cell_type": "markdown",
      "source": [
        "## Importing necessary packages:"
      ],
      "metadata": {
        "id": "0ZdqhR1kjN2M"
      }
    },
    {
      "cell_type": "code",
      "source": [
        "import folium\n",
        "import pandas as pd\n",
        "from branca.colormap import linear\n",
        "import plotly.express as px\n"
      ],
      "metadata": {
        "id": "kEFWi2qr9oFR"
      },
      "execution_count": null,
      "outputs": []
    },
    {
      "cell_type": "markdown",
      "source": [
        "#### Creating Data"
      ],
      "metadata": {
        "id": "3ym6EkcHjjlp"
      }
    },
    {
      "cell_type": "code",
      "source": [
        "# Data preparation\n",
        "data = {\n",
        "    'Country': ['USA', 'Canada', 'Mexico'],\n",
        "    'Latitude': [37.0902, 56.1304, 23.6345],\n",
        "    'Longitude': [-95.7129, -106.3468, -102.5528],\n",
        "    'Index': [60, 100, 180]  # Random environmental quality index\n",
        "}\n",
        "\n",
        "df = pd.DataFrame(data)\n",
        "\n",
        "# Create a map centered around North America\n",
        "map = folium.Map(location=[48.1667, -100.1667], zoom_start=3)\n",
        "\n",
        "# Generate a color map\n",
        "colormap = linear.YlGn_09.scale(\n",
        "    df.Index.min(),\n",
        "    df.Index.max()\n",
        ")\n",
        "\n",
        "colormap.caption = 'Environmental Quality Index'\n",
        "\n",
        "# Add markers\n",
        "for i in df.itertuples():\n",
        "    folium.CircleMarker(\n",
        "        location=[i.Latitude, i.Longitude],\n",
        "        radius=10,\n",
        "        popup=f\"Country: {i.Country}, Index: {i.Index}\",\n",
        "        color=colormap(i.Index),\n",
        "        fill=True,\n",
        "        fill_opacity=0.7\n",
        "    ).add_to(map)\n",
        "\n",
        "# Add the colormap to the map\n",
        "colormap.add_to(map)\n",
        "\n",
        "# Display the map\n",
        "map\n"
      ],
      "metadata": {
        "id": "Wu1Ycfbj8ZuX"
      },
      "execution_count": null,
      "outputs": []
    },
    {
      "cell_type": "code",
      "source": [
        "# Create a map focused on the MC\n",
        "center_lat = 39.8283\n",
        "center_long = -77.162643\n",
        "map = folium.Map(location=[center_lat, center_long])\n",
        "\n",
        "# Display the map\n",
        "map"
      ],
      "metadata": {
        "id": "Q4G45O3CnM0N"
      },
      "execution_count": null,
      "outputs": []
    },
    {
      "cell_type": "code",
      "source": [
        "# Create a map focused on the contiguous United States  and zoom out\n",
        "center_lat = 39.8283\n",
        "center_long = -77.162643\n",
        "map = folium.Map(location=[center_lat, center_long], zoom_start=5)\n",
        "\n",
        "# Display the map\n",
        "map"
      ],
      "metadata": {
        "id": "enaJU9PKkq86"
      },
      "execution_count": null,
      "outputs": []
    },
    {
      "cell_type": "markdown",
      "source": [
        "Adding Marker to the MC"
      ],
      "metadata": {
        "id": "iuQuSL7Lu8v0"
      }
    },
    {
      "cell_type": "code",
      "source": [
        "# Create a map focused on the contiguous United States\n",
        "#You can use https://www.latlong.net/ to get Latitude and Longitude information\n",
        "center_lat = 39.8283\n",
        "center_long = -77.162643\n",
        "map = folium.Map(location=[center_lat, center_long], zoom_start=5)\n",
        "\n",
        "# Add a marker near the geographic center of the contiguous US\n",
        "folium.Marker(\n",
        "    [center_lat, center_long],  # Center coordinates\n",
        "    popup='<b>Montgomery College</b>',\n",
        "    tooltip='25'\n",
        ").add_to(map)\n",
        "\n",
        "# Display the map\n",
        "map"
      ],
      "metadata": {
        "id": "dOadD0bEoVKE"
      },
      "execution_count": null,
      "outputs": []
    },
    {
      "cell_type": "code",
      "source": [
        "\n",
        "# Data preparation ()\n",
        "city_data = {\n",
        "    'City': ['New York', 'Chicago', 'Los Angeles', 'Houston', 'Phoenix'],\n",
        "    'Latitude': [40.7128, 41.8781, 34.0522, 29.7604, 33.4484],\n",
        "    'Longitude': [-74.0060, -87.6298, -118.2437, -95.3698, -112.0740],\n",
        "    'Index': [78, 72, 85, 70, 68]  # some random quality indexes\n",
        "}\n",
        "\n",
        "city_df = pd.DataFrame(city_data)\n",
        "\n",
        "# Create a map centered around  USA\n",
        "center_lat = 39.8283\n",
        "center_long = -98.5795\n",
        "map = folium.Map(location=[center_lat, center_long], zoom_start=5)\n",
        "\n",
        "# Add markers with  color based on index\n",
        "def color_mapper(index):\n",
        "    if index >= 80:\n",
        "        return 'green'\n",
        "    elif index >= 60:\n",
        "        return 'orange'\n",
        "    else:\n",
        "        return 'red'\n",
        "\n",
        "for index, row in city_df.iterrows():\n",
        "    folium.CircleMarker(\n",
        "        location=[row['Latitude'], row['Longitude']],\n",
        "        radius=8,  # Adjust radius as needed\n",
        "        popup=f\"{row['City']}: Environmental Index {row['Index']}\",\n",
        "        tooltip='Click for more info',\n",
        "        color=color_mapper(row['Index']),\n",
        "        fill=True,\n",
        "        fill_opacity=0.7\n",
        "    ).add_to(map)\n",
        "\n",
        "# Display the map\n",
        "map\n"
      ],
      "metadata": {
        "id": "MK6DIgBmtF7j"
      },
      "execution_count": null,
      "outputs": []
    },
    {
      "cell_type": "code",
      "source": [
        "\n",
        "# Example data for U.S. states\n",
        "data = {\n",
        "    'State': ['Illinois', 'California', 'New York', 'Texas', 'Arizona'],\n",
        "    'Index': [75, 85, 78, 70, 68]\n",
        "}\n",
        "\n",
        "df = pd.DataFrame(data)\n",
        "\n",
        "# URL to a GeoJSON file with U.S. states\n",
        "geo_url = 'https://raw.githubusercontent.com/PublicaMundi/MappingAPI/master/data/geojson/us-states.json'\n",
        "\n",
        "# Create a map centered around the USA\n",
        "map = folium.Map(location=[37.0902, -95.7129], zoom_start=4)\n",
        "\n",
        "# Create a choropleth map\n",
        "folium.Choropleth(\n",
        "    geo_data=geo_url,\n",
        "    name='choropleth',\n",
        "    data=df,\n",
        "    columns=['State', 'Index'],\n",
        "    key_on='feature.properties.name',\n",
        "    fill_color='YlOrRd',\n",
        "    fill_opacity=0.7,\n",
        "    line_opacity=0.2,\n",
        "    legend_name='Environmental Quality Index'\n",
        ").add_to(map)\n",
        "\n",
        "folium.LayerControl().add_to(map)\n",
        "\n",
        "# Display the map\n",
        "map\n"
      ],
      "metadata": {
        "id": "ZG6Sc1s--1_O"
      },
      "execution_count": null,
      "outputs": []
    },
    {
      "cell_type": "code",
      "source": [
        "# Example data for U.S. states\n",
        "data = {\n",
        "    'State': ['Illinois', 'California', 'New York', 'Texas', 'Arizona'],\n",
        "    'Index': [75, 85, 78, 70, 68]\n",
        "}\n",
        "\n",
        "df = pd.DataFrame(data)\n",
        "\n",
        "# URL to a GeoJSON file with U.S. states\n",
        "geo_url = 'https://raw.githubusercontent.com/PublicaMundi/MappingAPI/master/data/geojson/us-states.json'\n",
        "\n",
        "# Create a map centered around the USA\n",
        "map = folium.Map(location=[37.0902, -95.7129], zoom_start=4)\n",
        "\n",
        "# Create a choropleth map\n",
        "folium.Choropleth(\n",
        "    geo_data=geo_url,\n",
        "    name='choropleth',\n",
        "    data=df,\n",
        "    columns=['State', 'Index'],\n",
        "    key_on='feature.properties.name',\n",
        "    fill_color='YlOrRd',  # Yellow-Orange-Red palette\n",
        "    fill_opacity=0.7,\n",
        "    line_opacity=0.2,\n",
        "    legend_name='Environmental Quality Index'\n",
        ").add_to(map)\n",
        "\n",
        "folium.LayerControl().add_to(map)\n",
        "\n",
        "# Display the map\n",
        "map\n"
      ],
      "metadata": {
        "id": "dzBrOIT7_Wx7"
      },
      "execution_count": null,
      "outputs": []
    },
    {
      "cell_type": "markdown",
      "source": [
        "---------\n",
        "---------\n"
      ],
      "metadata": {
        "id": "KehoGtkPubhw"
      }
    },
    {
      "cell_type": "code",
      "source": [
        "\n",
        "# Import data from USGS\n",
        "data = pd.read_csv('https://earthquake.usgs.gov/earthquakes/feed/v1.0/summary/all_month.csv')\n",
        "\n",
        "# Drop rows with missing or invalid values in the 'latitude' and 'longitude' columns\n",
        "data = data.dropna(subset=['latitude', 'longitude'])\n",
        "\n",
        "# Create a simple scatter map\n",
        "fig = px.scatter_geo(data, lat='latitude', lon='longitude',\n",
        "                     title='Simple Earthquake Map')\n",
        "fig.show()\n"
      ],
      "metadata": {
        "id": "hybF-fCGuay5"
      },
      "execution_count": null,
      "outputs": []
    },
    {
      "cell_type": "code",
      "source": [
        "# Import data from USGS\n",
        "data = pd.read_csv('https://earthquake.usgs.gov/earthquakes/feed/v1.0/summary/all_month.csv')\n",
        "data.describe()\n",
        "\n",
        "# Drop rows with missing or invalid values in the 'mag' column\n",
        "data = data.dropna(subset=['mag'])\n",
        "data = data[data.mag >= 0]\n",
        "\n",
        "\n",
        "# Create scatter map\n",
        "fig = px.scatter_geo(data, lat='latitude', lon='longitude', color='mag',\n",
        "                     hover_name='place', #size='mag',\n",
        "                     title='Earthquakes Around the World')\n",
        "fig.show()"
      ],
      "metadata": {
        "id": "tR3TAg0kAgbJ"
      },
      "execution_count": null,
      "outputs": []
    },
    {
      "cell_type": "code",
      "source": [
        "data = pd.read_csv('https://earthquake.usgs.gov/earthquakes/feed/v1.0/summary/all_month.csv')\n"
      ],
      "metadata": {
        "id": "qU9fpgxXFNLq"
      },
      "execution_count": null,
      "outputs": []
    },
    {
      "cell_type": "code",
      "source": [
        "\n",
        "# Import data from USGS\n",
        "data = pd.read_csv('https://earthquake.usgs.gov/earthquakes/feed/v1.0/summary/all_month.csv')\n",
        "\n",
        "#some basic info\n",
        "\n",
        "data.describe()\n",
        "\n",
        "# Drop rows with missing or invalid values in the 'mag' column\n",
        "data = data.dropna(subset=['mag'])\n",
        "data = data[data.mag >= 0]\n",
        "\n",
        "# Calculate descriptive statistics for magnitude\n",
        "mean_mag = data['mag'].mean()\n",
        "median_mag = data['mag'].median()\n",
        "std_mag = data['mag'].std()\n",
        "\n",
        "# Print the results\n",
        "print(f\"Mean magnitude: {mean_mag:.2f}\")\n",
        "print(f\"Median magnitude: {median_mag:.2f}\")\n",
        "print(f\"Standard deviation of magnitude: {std_mag:.2f}\")\n",
        "\n",
        "# Calculate the number of earthquakes with magnitude greater than or equal to 5\n",
        "quakes_over_5 = data[data['mag'] >= 5].shape[0]\n",
        "\n",
        "# Print the result\n",
        "print(f\"Number of earthquakes with magnitude greater than or equal to 5: {quakes_over_5}\")\n",
        "\n"
      ],
      "metadata": {
        "id": "xYtzkjIvxKau"
      },
      "execution_count": null,
      "outputs": []
    },
    {
      "cell_type": "code",
      "source": [
        "data.info()"
      ],
      "metadata": {
        "id": "78QHhJjjxYly"
      },
      "execution_count": null,
      "outputs": []
    },
    {
      "cell_type": "markdown",
      "source": [
        "### Part 1 : Visualizing Trends"
      ],
      "metadata": {
        "id": "rCtt9yUC05wY"
      }
    },
    {
      "cell_type": "code",
      "source": [
        "blue_jays=pd.read_csv(\"https://wilkelab.org/DSC385/datasets/blue_jays.csv\")\n",
        "car93=pd.read_csv(\"https://wilkelab.org/DSC385/datasets/cars93.csv\")"
      ],
      "metadata": {
        "id": "WW36Ht480-1u"
      },
      "execution_count": null,
      "outputs": []
    },
    {
      "cell_type": "code",
      "source": [
        "import pandas as pd\n",
        "import matplotlib.pyplot as plt\n",
        "\n",
        "# Load the dataset from the URL\n",
        "url = \"https://wilkelab.org/DSC385/datasets/blue_jays.csv\"\n",
        "blue_jays = pd.read_csv(url)\n",
        "\n",
        "# Plotting\n",
        "plt.figure(figsize=(10, 6))\n",
        "plt.scatter(blue_jays['body_mass_g'], blue_jays['head_length_mm'], alpha=0.5)  # alpha for better visibility if points overlap\n",
        "plt.title('Body Mass vs. Head Length in Blue Jays')\n",
        "plt.xlabel('Body Mass (g)')\n",
        "plt.ylabel('Head Length (mm)')\n",
        "plt.grid(True)  # Adding grid similar to theme_bw in ggplot2\n",
        "plt.show()\n",
        "\n"
      ],
      "metadata": {
        "id": "c_bWmSds1Ou7"
      },
      "execution_count": null,
      "outputs": []
    },
    {
      "cell_type": "code",
      "source": [
        "import seaborn as sns\n",
        "\n",
        "# Load the dataset from the URL\n",
        "url = \"https://wilkelab.org/DSC385/datasets/blue_jays.csv\"\n",
        "blue_jays = pd.read_csv(url)\n",
        "\n",
        "# Plotting using seaborn\n",
        "plt.figure(figsize=(10, 6))\n",
        "sns.scatterplot(data=blue_jays, x='body_mass_g', y='head_length_mm')  # Scatter plot\n",
        "sns.regplot(data=blue_jays, x='body_mass_g', y='head_length_mm', scatter=False, color='blue')  # Regression line without scatter points\n",
        "plt.title('Body Mass vs. Head Length in Blue Jays with Regression Line')\n",
        "plt.grid(True)  # Adds a grid similar to theme_bw in ggplot2\n",
        "plt.show()\n"
      ],
      "metadata": {
        "id": "pSx4cO5r2M5u"
      },
      "execution_count": null,
      "outputs": []
    },
    {
      "cell_type": "code",
      "source": [
        "# Setting the plot style to white background which is similar to theme_bw()\n",
        "sns.set(style=\"whitegrid\")\n",
        "\n",
        "# Plotting\n",
        "plt.figure(figsize=(10, 6))\n",
        "\n",
        "# Create a scatter plot with colors representing different sexes\n",
        "scatter = sns.scatterplot(data=blue_jays, x='body_mass_g', y='head_length_mm', hue='sex', palette='Set1')\n",
        "\n",
        "# Add a linear regression line for the entire dataset, without a confidence interval\n",
        "sns.regplot(data=blue_jays, x='body_mass_g', y='head_length_mm', scatter=False, color='black', ci=None)\n",
        "\n",
        "plt.title('Body Mass vs. Head Length in Blue Jays')\n",
        "plt.show()\n"
      ],
      "metadata": {
        "id": "C6Wg2jvd3xvy"
      },
      "execution_count": null,
      "outputs": []
    },
    {
      "cell_type": "code",
      "source": [
        "\n",
        "# Setting the plot style to white background which is similar to theme_bw()\n",
        "sns.set(style=\"whitegrid\")\n",
        "\n",
        "# Using lmplot to create a regression line for each category of 'sex'\n",
        "# lmplot automatically separates data based on 'hue' and fits separate regressions\n",
        "#lm come from linear model\n",
        "g = sns.lmplot(data=blue_jays, x='body_mass_g', y='head_length_mm', hue='sex')\n",
        "\n",
        "g.set(title='Body Mass vs. Head Length in Blue Jays by Sex')\n",
        "plt.show()\n"
      ],
      "metadata": {
        "id": "26dVm3Td4XyK"
      },
      "execution_count": null,
      "outputs": []
    },
    {
      "cell_type": "code",
      "source": [
        "\n",
        "# Setting the plot style to white background which is similar to theme_bw()\n",
        "sns.set(style=\"whitegrid\")\n",
        "\n",
        "# Using lmplot to create a regression line for each category of 'sex'\n",
        "# lmplot automatically separates data based on 'hue' and fits separate regressions\n",
        "g = sns.lmplot(data=blue_jays, x='body_mass_g', y='head_length_mm', hue='sex',\n",
        "               palette='Set1', height=6, aspect=1.66, ci=None, markers='o', scatter_kws={'alpha':0.5})\n",
        "\n",
        "g.set(title='Body Mass vs. Head Length in Blue Jays by Sex')\n",
        "plt.show()\n"
      ],
      "metadata": {
        "id": "kN-QbF9d4JkC"
      },
      "execution_count": null,
      "outputs": []
    },
    {
      "cell_type": "markdown",
      "source": [],
      "metadata": {
        "id": "L-2_I_KRdV6R"
      }
    },
    {
      "cell_type": "markdown",
      "source": [
        "# Linear regression can be nonsensical\n",
        "#### Example: Fuel-tank capacity versus price in cars"
      ],
      "metadata": {
        "id": "TFaciTle48ZK"
      }
    },
    {
      "cell_type": "code",
      "source": [
        "cars93=pd.read_csv(\"https://wilkelab.org/DSC385/datasets/cars93.csv\")\n",
        "\n",
        "# Setting the plot style to white background which is similar to theme_bw()\n",
        "sns.set(style=\"whitegrid\")\n",
        "\n",
        "# Create a scatter plot with a linear regression line\n",
        "plt.figure(figsize=(10, 6))\n",
        "sns.scatterplot(data=cars93, x='Price', y='Fuel.tank.capacity')  # Scatter plot\n",
        "sns.regplot(data=cars93, x='Price', y='Fuel.tank.capacity', scatter=False, ci=95)  # Regression line with 95% CI\n",
        "\n",
        "plt.title('Relationship Between Price and Fuel Tank Capacity in Cars93')\n",
        "plt.xlabel('Price (in $1000s)')\n",
        "plt.ylabel('Fuel Tank Capacity (gallons)')\n",
        "plt.show()\n"
      ],
      "metadata": {
        "id": "nnZe__Sa47aO"
      },
      "execution_count": null,
      "outputs": []
    },
    {
      "cell_type": "markdown",
      "source": [
        "Do more expensive cars have a larger fuel tank?\n"
      ],
      "metadata": {
        "id": "QA5qauk95V_P"
      }
    },
    {
      "cell_type": "markdown",
      "source": [
        "Installing ```pygam``` eneralized Additive Models (GAMs). Useful or fitting, predicting and analyzing data."
      ],
      "metadata": {
        "id": "bUPSy2wk7xUA"
      }
    },
    {
      "cell_type": "code",
      "source": [
        "!pip install pygam"
      ],
      "metadata": {
        "id": "YoTewpQX52L5"
      },
      "execution_count": null,
      "outputs": []
    },
    {
      "cell_type": "code",
      "source": [
        "from pygam import LinearGAM, s\n",
        "import numpy as np\n",
        "\n",
        "# Setting the aesthetic of the plot similar to ggplot's theme_bw()\n",
        "sns.set(style=\"whitegrid\")\n",
        "\n",
        "# Create the scatter plot\n",
        "plt.figure(figsize=(10, 6))\n",
        "sns.scatterplot(data=cars93, x='Price', y='Fuel.tank.capacity', color='blue')\n",
        "\n",
        "# Fit a GAM with a thin-plate spline, adjusting the number of splines\n",
        "gam = LinearGAM(s(0, n_splines=10)).fit(cars93['Price'], cars93['Fuel.tank.capacity'])\n",
        "\n",
        "# Generate X values for prediction\n",
        "X_pred = pd.DataFrame({'Price': np.linspace(cars93['Price'].min(), cars93['Price'].max(), 100)})\n",
        "\n",
        "# Predict using GAM\n",
        "y_pred = gam.predict(X_pred)\n",
        "\n",
        "# Plot the GAM smooth line\n",
        "plt.plot(X_pred['Price'], y_pred, color='red', lw=2)\n",
        "\n",
        "plt.title('Price vs Fuel Tank Capacity with GAM Smooth (Thin-Plate Spline)')\n",
        "plt.xlabel('Price (in $1000s)')\n",
        "plt.ylabel('Fuel Tank Capacity (gallons)')\n",
        "plt.show()\n"
      ],
      "metadata": {
        "id": "A8hRFeY05Vep"
      },
      "execution_count": null,
      "outputs": []
    }
  ]
}