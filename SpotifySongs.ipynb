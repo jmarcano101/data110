{
  "nbformat": 4,
  "nbformat_minor": 0,
  "metadata": {
    "colab": {
      "provenance": [],
      "authorship_tag": "ABX9TyOcTAk2jP3tlCNCllhlfYAy",
      "include_colab_link": true
    },
    "kernelspec": {
      "name": "python3",
      "display_name": "Python 3"
    },
    "language_info": {
      "name": "python"
    }
  },
  "cells": [
    {
      "cell_type": "markdown",
      "metadata": {
        "id": "view-in-github",
        "colab_type": "text"
      },
      "source": [
        "<a href=\"https://colab.research.google.com/github/jmarcano101/data110/blob/main/SpotifySongs.ipynb\" target=\"_parent\"><img src=\"https://colab.research.google.com/assets/colab-badge.svg\" alt=\"Open In Colab\"/></a>"
      ]
    },
    {
      "cell_type": "code",
      "execution_count": null,
      "metadata": {
        "id": "p-jwO6p-9x6V"
      },
      "outputs": [],
      "source": [
        "import pandas as pd\n",
        "import numpy as np\n",
        "import matplotlib.pyplot as plt\n",
        "import plotly.express as px\n",
        "import plotly.graph_objects as go\n",
        "from plotly.subplots import make_subplots\n",
        "from plotly.offline import init_notebook_mode\n",
        "import seaborn as sns\n",
        "import datetime as dt"
      ]
    },
    {
      "cell_type": "markdown",
      "source": [],
      "metadata": {
        "id": "Xmq49KGpaRgC"
      }
    },
    {
      "cell_type": "code",
      "source": [
        "df=pd.read_csv(\"https://raw.githubusercontent.com/jmarcano101/data110/main/dataset/spotifysongs%20(1)%20(1).csv\")\n",
        "df.head()"
      ],
      "metadata": {
        "id": "2k56YA2lIwpY"
      },
      "execution_count": null,
      "outputs": []
    },
    {
      "source": [
        "# @title year vs popularity\n",
        "\n",
        "from matplotlib import pyplot as plt\n",
        "import seaborn as sns\n",
        "def _plot_series(series, series_name, series_index=0):\n",
        "  from matplotlib import pyplot as plt\n",
        "  import seaborn as sns\n",
        "  palette = list(sns.palettes.mpl_palette('Dark2'))\n",
        "  xs = series['year']\n",
        "  ys = series['popularity']\n",
        "\n",
        "  plt.plot(xs, ys, label=series_name, color=palette[series_index % len(palette)])\n",
        "\n",
        "fig, ax = plt.subplots(figsize=(10, 5.2), layout='constrained')\n",
        "df_sorted = df.sort_values('year', ascending=True)\n",
        "for i, (series_name, series) in enumerate(df_sorted.groupby('explicit')):\n",
        "  _plot_series(series, series_name, i)\n",
        "  fig.legend(title='explicit', bbox_to_anchor=(1, 1), loc='upper left')\n",
        "sns.despine(fig=fig, ax=ax)\n",
        "plt.xlabel('year')\n",
        "_ = plt.ylabel('popularity')"
      ],
      "cell_type": "code",
      "execution_count": null,
      "outputs": [],
      "metadata": {
        "id": "rQ0T2piBgARF"
      }
    },
    {
      "cell_type": "code",
      "source": [],
      "metadata": {
        "id": "44aB4FPgb8yt"
      },
      "execution_count": null,
      "outputs": []
    },
    {
      "source": [
        "# @title Danceability vs Energy\n",
        "\n",
        "sns.scatterplot(data=df, x='danceability', y='energy', hue='popularity')"
      ],
      "cell_type": "code",
      "execution_count": null,
      "outputs": [],
      "metadata": {
        "id": "tgrl84B9b41G"
      }
    },
    {
      "cell_type": "code",
      "source": [
        "# prompt: Using dataframe df: top artist plot\n",
        "\n",
        "df.groupby('artist')['popularity'].mean().sort_values(ascending=False).head(10).plot(kind='bar')\n"
      ],
      "metadata": {
        "id": "SkiksUqMb0QX"
      },
      "execution_count": null,
      "outputs": []
    },
    {
      "cell_type": "code",
      "source": [
        "df.info()"
      ],
      "metadata": {
        "id": "wmDP3zkkSsfV"
      },
      "execution_count": null,
      "outputs": []
    },
    {
      "cell_type": "code",
      "source": [
        "df.duplicated().value_counts()"
      ],
      "metadata": {
        "id": "YnyBtRhnT-vr"
      },
      "execution_count": null,
      "outputs": []
    },
    {
      "cell_type": "code",
      "source": [
        "df.drop_duplicates(inplace=True)"
      ],
      "metadata": {
        "id": "-4KN_66BUEyX"
      },
      "execution_count": null,
      "outputs": []
    },
    {
      "cell_type": "code",
      "source": [
        "df.shape"
      ],
      "metadata": {
        "id": "oMPxLz8KUMmp"
      },
      "execution_count": null,
      "outputs": []
    },
    {
      "cell_type": "code",
      "source": [
        "df.describe()"
      ],
      "metadata": {
        "id": "pPkCKNh6UP7M"
      },
      "execution_count": null,
      "outputs": []
    },
    {
      "cell_type": "code",
      "source": [
        "fig=make_subplots(rows=3,cols=3,subplot_titles=('<i>popularity', '<i>danceability', '<i>energy', '<i>loudness', '<i>speechiness', '<i>acousticness', '<i>liveness', '<i>valence', '<i>tempo'))\n",
        "fig.add_trace(go.Histogram(x=df['popularity'],name='popularity'),row=1,col=1)\n",
        "fig.add_trace(go.Histogram(x=df['danceability'],name='danceability'),row=1,col=2)\n",
        "fig.add_trace(go.Histogram(x=df['energy'],name='energy'),row=1,col=3)\n",
        "fig.add_trace(go.Histogram(x=df['loudness'],name='loudness'),row=2,col=1)\n",
        "fig.add_trace(go.Histogram(x=df['speechiness'],name='speechiness'),row=2,col=2)\n",
        "fig.add_trace(go.Histogram(x=df['acousticness'],name='acousticness'),row=2,col=3)\n",
        "fig.add_trace(go.Histogram(x=df['liveness'],name='liveness'),row=3,col=1)\n",
        "fig.add_trace(go.Histogram(x=df['valence'],name='valence'),row=3,col=2)\n",
        "fig.add_trace(go.Histogram(x=df['tempo'],name='tempo'),row=3,col=3)\n",
        "fig.update_layout(height=900,width=900,title_text='<b>Feature Distribution')\n",
        "fig.update_layout(template='plotly_dark',title_x=0.5)"
      ],
      "metadata": {
        "id": "_yWWS3_3UkLP"
      },
      "execution_count": null,
      "outputs": []
    },
    {
      "cell_type": "code",
      "source": [
        "fig=px.histogram(df.groupby('genre',as_index=False).count().sort_values(by='song',ascending=False),x='genre',y='song',color_discrete_sequence=['deeppink'],template='plotly_dark',marginal='box',title='<b>Total songs based on genres</b>')\n",
        "fig.update_layout(title_x=0.5)"
      ],
      "metadata": {
        "id": "0RKPKvauU0YN"
      },
      "execution_count": null,
      "outputs": []
    },
    {
      "cell_type": "code",
      "source": [
        "top_10_songs=df.nlargest(10, 'popularity')['song']\n",
        "top_10_songs"
      ],
      "metadata": {
        "id": "wucGljz-cOoH"
      },
      "execution_count": null,
      "outputs": []
    },
    {
      "cell_type": "code",
      "source": [
        "duration_minutes= df['duration_ms']/60000\n",
        "duration_minutes"
      ],
      "metadata": {
        "id": "nCtR4TIIcTxg"
      },
      "execution_count": null,
      "outputs": []
    }
  ]
}