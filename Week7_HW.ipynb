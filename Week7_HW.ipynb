{
  "nbformat": 4,
  "nbformat_minor": 0,
  "metadata": {
    "colab": {
      "private_outputs": true,
      "provenance": [],
      "include_colab_link": true
    },
    "kernelspec": {
      "name": "python3",
      "display_name": "Python 3"
    },
    "language_info": {
      "name": "python"
    }
  },
  "cells": [
    {
      "cell_type": "markdown",
      "metadata": {
        "id": "view-in-github",
        "colab_type": "text"
      },
      "source": [
        "<a href=\"https://colab.research.google.com/github/jmarcano101/data110/blob/main/Week7_HW.ipynb\" target=\"_parent\"><img src=\"https://colab.research.google.com/assets/colab-badge.svg\" alt=\"Open In Colab\"/></a>"
      ]
    },
    {
      "cell_type": "code",
      "execution_count": null,
      "metadata": {
        "id": "dnXZ1YzT32aF"
      },
      "outputs": [],
      "source": [
        "# Import seaborn for statistical data visualization or to load the penguins dataset\n",
        "import seaborn as sns\n",
        "\n",
        "# Import matplotlib.pyplot for creating static, interactive, and animated visualizations in Python\n",
        "import matplotlib.pyplot as plt\n",
        "\n",
        "# Import pandas for data manipulation and analysis, particularly for structured data operations and manipulations\n",
        "import pandas as pd\n",
        "\n",
        "\n",
        "\n",
        "\n",
        "\n"
      ]
    },
    {
      "cell_type": "code",
      "source": [
        "# Load the penguins dataset from seaborn's built-in datasets and assign it to the variable 'penguins'\n",
        "penguins = sns.load_dataset(\"penguins\")\n",
        "\n",
        "# Display the first few rows of the dataframe to get a quick overview of the dataset structure and initial data points\n",
        "print(penguins.head())\n",
        "\n",
        "# Print the type of the 'penguins' variable to confirm it's a pandas DataFrame\n",
        "print(type(penguins))\n",
        "\n"
      ],
      "metadata": {
        "id": "cNdQhYv04GYi"
      },
      "execution_count": null,
      "outputs": []
    },
    {
      "cell_type": "code",
      "source": [
        "penguins.info()"
      ],
      "metadata": {
        "id": "yOUtvht54UoE"
      },
      "execution_count": null,
      "outputs": []
    },
    {
      "cell_type": "code",
      "source": [
        "# Load the penguins dataset from seaborn\n",
        "# This dataset contains information about penguins.\n",
        "penguins = sns.load_dataset(\"penguins\")\n",
        "\n",
        "# Define colors for each species\n",
        "# Creates a dictionary for easy color association.\n",
        "colors = {'Adelie': 'blue', 'Chinstrap': 'green', 'Gentoo': 'red'}\n",
        "\n",
        "# Plot each species\n",
        "# Iterates through the color dictionary\n",
        "for species, color in colors.items():\n",
        "    subset = penguins[penguins['species'] == species]\n",
        "    # Filters the dataset to include only penguins of the current 'species'\n",
        "\n",
        "    plt.scatter(subset['bill_length_mm'], subset['bill_depth_mm'], color=color, label=species)\n",
        "    # Creates a scatter plot with 'bill_length_mm' on the x-axis, 'bill_depth_mm' on the y-axis\n",
        "    # Assigns the specified 'color' and a label based on the current 'species'\n",
        "\n",
        "plt.xlabel('Bill Length (mm)')  # Labels the x-axis\n",
        "plt.ylabel('Bill Depth (mm)')  # Labels the y-axis\n",
        "plt.legend(title='Species')  # Adds a legend to the plot\n",
        "plt.show()  # Displays the plot\n"
      ],
      "metadata": {
        "id": "m4j0-8Kv4UVr"
      },
      "execution_count": null,
      "outputs": []
    },
    {
      "cell_type": "code",
      "source": [
        "# Filter the dataset for rows where species is 'Gentoo'\n",
        "gentoo_penguins = penguins[penguins['species'] == 'Gentoo']\n",
        "\n",
        "# Display the first few rows of the filtered DataFrame\n",
        "print(gentoo_penguins.head())\n"
      ],
      "metadata": {
        "id": "PJUW8S-h5KnT"
      },
      "execution_count": null,
      "outputs": []
    },
    {
      "cell_type": "code",
      "source": [
        "# Filter the penguins dataset to include only those rows where 'bill_length_mm' is greater than 50, and assign the filtered data to 'X'\n",
        "X = penguins[penguins['bill_length_mm'] > 50]\n",
        "\n",
        "# Display the first few rows of the filtered dataframe 'X' to verify the filter was applied correctly\n",
        "X.head()\n"
      ],
      "metadata": {
        "id": "ZdKpj9P65Kbf"
      },
      "execution_count": null,
      "outputs": []
    },
    {
      "cell_type": "code",
      "source": [
        "# Select specific columns ('species', 'island', 'sex') from the penguins dataframe and store them in 'selected_columns'\n",
        "selected_columns = penguins[['species', 'island', 'sex']]\n"
      ],
      "metadata": {
        "id": "Rzu4uS7T781S"
      },
      "execution_count": null,
      "outputs": []
    },
    {
      "cell_type": "code",
      "source": [
        "# Sort the penguins DataFrame by 'bill_length_mm' in ascending order and store the result in 'sorted_penguins'\n",
        "sorted_penguins = penguins.sort_values(by='bill_length_mm')\n",
        "# Display the first few rows of the sorted DataFrame to verify the sorting operation\n",
        "sorted_penguins.head()\n",
        "\n",
        "# From Large to Small\n",
        "# Sort the penguins DataFrame by 'bill_length_mm' in descending order and store the result in 'sorted_penguins_desc'\n",
        "sorted_penguins_desc = penguins.sort_values(by='bill_length_mm', ascending=False)\n",
        "# Display the first few rows of the descendingly sorted DataFrame to verify the sorting operation\n",
        "sorted_penguins_desc.head()\n"
      ],
      "metadata": {
        "id": "Nfy-MmIv8JQd"
      },
      "execution_count": null,
      "outputs": []
    },
    {
      "cell_type": "code",
      "source": [
        "penguins"
      ],
      "metadata": {
        "id": "pgQc_81F9FvL"
      },
      "execution_count": null,
      "outputs": []
    },
    {
      "source": [
        "# @title island\n",
        "\n",
        "from matplotlib import pyplot as plt\n",
        "import seaborn as sns\n",
        "penguins.groupby('island').size().plot(kind='barh', color=sns.palettes.mpl_palette('Dark2'))\n",
        "plt.gca().spines[['top', 'right',]].set_visible(False)"
      ],
      "cell_type": "code",
      "execution_count": null,
      "outputs": [],
      "metadata": {
        "cellView": "form",
        "id": "jx3C19eT7JLa"
      }
    },
    {
      "source": [
        "# @title species\n",
        "\n",
        "from matplotlib import pyplot as plt\n",
        "import seaborn as sns\n",
        "penguins.groupby('species').size().plot(kind='barh', color=sns.palettes.mpl_palette('Dark2'))\n",
        "plt.gca().spines[['top', 'right',]].set_visible(False)"
      ],
      "cell_type": "code",
      "execution_count": null,
      "outputs": [],
      "metadata": {
        "cellView": "form",
        "id": "SCiK9Ck56znH"
      }
    },
    {
      "cell_type": "code",
      "source": [
        "# Access the 'bill_depth_mm' column from the penguins DataFrame to work with or analyze bill depths\n",
        "penguins['bill_depth_mm']\n",
        "\n",
        "# Count the occurrence of each unique value in the 'bill_depth_mm' column and display the counts\n",
        "# This is useful for understanding the distribution of bill depth measurements across all penguins in the dataset\n",
        "# value.counts() is one of the most useful function in pandas\n",
        "penguins['bill_depth_mm'].value_counts()\n",
        "\n",
        "# Count the occurrence of each unique value in the 'island' column and display the counts\n",
        "# This helps to understand how many penguins come from each island in the dataset\n",
        "penguins['island'].value_counts()\n"
      ],
      "metadata": {
        "id": "X6Pjlsj19SFN"
      },
      "execution_count": null,
      "outputs": []
    },
    {
      "source": [
        "island_counts = penguins['island'].value_counts()\n",
        "plt.bar(island_counts.index, island_counts.values, color='green')\n",
        "plt.xlabel('Island')\n",
        "plt.ylabel('Count')\n",
        "plt.title('Number of Penguins by Island')\n",
        "plt.show()"
      ],
      "cell_type": "code",
      "metadata": {
        "id": "6e0wm0rh50kw"
      },
      "execution_count": null,
      "outputs": []
    },
    {
      "source": [
        "# Group the penguins DataFrame by 'species' and 'island'\n",
        "grouped_data = penguins.groupby(by=['species', 'island'])\n",
        "\n",
        "# Count the number of occurrences for each combination\n",
        "count_data = grouped_data.size().unstack()\n",
        "\n",
        "# Display the result\n",
        "print(count_data)"
      ],
      "cell_type": "code",
      "metadata": {
        "id": "n02GiugF6HGL"
      },
      "execution_count": null,
      "outputs": []
    },
    {
      "cell_type": "code",
      "source": [
        "\n",
        "# The size() function counts instances, and reset_index() converts the result back into a DataFrame.\n",
        "species_island_counts = penguins.groupby(['species', 'island']).size().reset_index(name='count')\n",
        "\n",
        "# Print the resulting DataFrame which now contains a count of penguins for each species-island combination\n",
        "# The DataFrame has three columns: 'species', 'island', and 'count' indicating the number of penguins.\n",
        "print(species_island_counts)\n"
      ],
      "metadata": {
        "id": "jizGDacB_G61"
      },
      "execution_count": null,
      "outputs": []
    },
    {
      "cell_type": "code",
      "source": [
        "# Count the number of occurrences for each combination of 'species' and 'island'\n",
        "species_island_counts_names = penguins.groupby(['species', 'island']).size()\n",
        "\n",
        "# Display the result\n",
        "print(species_island_counts_names)"
      ],
      "metadata": {
        "id": "vFUT9Tcp_WLn"
      },
      "execution_count": null,
      "outputs": []
    },
    {
      "cell_type": "code",
      "source": [
        "# Count the number of occurrences for each combination of 'species' and 'island'\n",
        "species_island_counts_names = penguins.groupby(['species', 'island']).size().reset_index(name='Counts')\n",
        "\n",
        "# Display the result\n",
        "print(species_island_counts_names)"
      ],
      "metadata": {
        "id": "iPCJa-SW_wAQ"
      },
      "execution_count": null,
      "outputs": []
    },
    {
      "cell_type": "code",
      "source": [
        "# Filter the original penguins DataFrame to include only rows where the species is 'Adelie'.\n",
        "# The resulting DataFrame 'adelie_penguins' contains all data for Adelie penguins.\n",
        "adelie_penguins = penguins[penguins['species'] == 'Adelie']\n"
      ],
      "metadata": {
        "id": "lWtSKZWAAMzy"
      },
      "execution_count": null,
      "outputs": []
    },
    {
      "cell_type": "code",
      "source": [
        "# Filter for 'Adelie' species and select 'island' and 'sex' columns\n",
        "adelie_data = penguins[penguins['species'] == 'Adelie'][['island', 'sex']]\n",
        "\n",
        "# Display the first few rows of the resulting DataFrame\n",
        "print(adelie_data.head())\n"
      ],
      "metadata": {
        "id": "feBiAaOmAd7e"
      },
      "execution_count": null,
      "outputs": []
    },
    {
      "cell_type": "code",
      "source": [
        "# First, filter the penguins DataFrame to include only those rows where the species is 'Adelie'.\n",
        "# Then, select only the 'island' and 'sex' columns for further analysis.\n",
        "# Group the filtered data by 'island' and 'sex' to prepare for counting.\n",
        "# Use the .size() method to count the number of occurrences in each group.\n",
        "# The .reset_index() method is used to convert the result back into a DataFrame for easier handling.\n",
        "adelie_counts = penguins[penguins['species'] == 'Adelie'][['island', 'sex']] \\\n",
        "    .groupby(['island', 'sex']) \\\n",
        "    .size() \\\n",
        "    .reset_index(name='count')  # Add a 'count' column to hold the result of size()\n",
        "\n",
        "# Display the results\n",
        "# This prints the counts of Adelie penguins on each island, broken down by sex.\n",
        "print(adelie_counts)\n",
        "\n"
      ],
      "metadata": {
        "id": "1prQ6YODBPfb"
      },
      "execution_count": null,
      "outputs": []
    },
    {
      "source": [
        "# Print the first five rows of the penguins DataFrame\n",
        "print(penguins.head())"
      ],
      "cell_type": "code",
      "metadata": {
        "id": "OumOYD9-6Yb1"
      },
      "execution_count": null,
      "outputs": []
    },
    {
      "source": [
        "# Print the column names of the penguins DataFrame\n",
        "print(penguins.columns)"
      ],
      "cell_type": "code",
      "metadata": {
        "id": "rsXTvTtU6Y0Q"
      },
      "execution_count": null,
      "outputs": []
    },
    {
      "source": [
        "!pip install pandas"
      ],
      "cell_type": "code",
      "metadata": {
        "id": "pzg0_JYp6hU0"
      },
      "execution_count": null,
      "outputs": []
    },
    {
      "source": [
        "import pandas as pd"
      ],
      "cell_type": "code",
      "metadata": {
        "id": "BgYpL2pF6hq8"
      },
      "execution_count": null,
      "outputs": []
    },
    {
      "source": [
        "penguins.head()"
      ],
      "cell_type": "code",
      "metadata": {
        "id": "xpuQT1w56h7X"
      },
      "execution_count": null,
      "outputs": []
    },
    {
      "source": [
        "penguins.columns"
      ],
      "cell_type": "code",
      "metadata": {
        "id": "krqsWxoE6iNE"
      },
      "execution_count": null,
      "outputs": []
    },
    {
      "source": [
        "# Select only the 'species' and 'bill_length_mm' columns\n",
        "selected_data = filtered_data[['species', 'bill_length_mm']]\n",
        "\n",
        "# Count the number of occurrences for each unique combination of 'species' and 'bill_length_mm'\n",
        "count_data = selected_data.groupby(['species', 'bill_length_mm']).size().unstack()\n",
        "\n",
        "# Display the result\n",
        "print(count_data)"
      ],
      "cell_type": "code",
      "metadata": {
        "id": "CLJOsZox6jPu"
      },
      "execution_count": null,
      "outputs": []
    },
    {
      "cell_type": "code",
      "source": [
        "\n",
        "# Select specific columns (this step is actually optional for adding a new column)\n",
        "penguins_selected = penguins[['species', 'island', 'flipper_length_mm']]\n",
        "\n",
        "# Add a new column for flipper length in cm\n",
        "penguins_selected['flipper_length_cm'] = penguins_selected['flipper_length_mm'] / 10\n",
        "\n",
        "# Display the first few rows to verify the new column\n",
        "print(penguins_selected.head())"
      ],
      "metadata": {
        "id": "e2zlwopWDAvi"
      },
      "execution_count": null,
      "outputs": []
    },
    {
      "source": [
        "# Import the pandas module\n",
        "import pandas as pd\n",
        "\n",
        "# The variable 'column_stack' is not defined.\n",
        "# It is likely a typo.\n",
        "# The code should be:\n",
        "\n",
        "print(penguins_selected.head())\n",
        "print(penguins_selected['flipper_length_cm'].head())"
      ],
      "cell_type": "code",
      "metadata": {
        "id": "9sOVSDGQ5T52"
      },
      "execution_count": null,
      "outputs": []
    },
    {
      "cell_type": "code",
      "source": [
        "\n",
        "# Add new columns for flipper length in cm and in inches\n",
        "penguins['flipper_length_cm'] = penguins['flipper_length_mm'] / 10\n",
        "penguins['flipper_length_in'] = penguins['flipper_length_mm'] / 25.4\n",
        "\n",
        "# If you wish to only keep certain columns in the final DataFrame:\n",
        "penguins = penguins[['species', 'island', 'flipper_length_mm', 'flipper_length_cm', 'flipper_length_in']]\n",
        "\n",
        "# Display the first few rows to verify the new columns\n",
        "print(penguins.head())\n"
      ],
      "metadata": {
        "id": "IzdP3VFzD1m7"
      },
      "execution_count": null,
      "outputs": []
    }
  ]
}