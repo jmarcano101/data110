{
  "nbformat": 4,
  "nbformat_minor": 0,
  "metadata": {
    "colab": {
      "private_outputs": true,
      "provenance": [],
      "include_colab_link": true
    },
    "kernelspec": {
      "name": "python3",
      "display_name": "Python 3"
    },
    "language_info": {
      "name": "python"
    }
  },
  "cells": [
    {
      "cell_type": "markdown",
      "metadata": {
        "id": "view-in-github",
        "colab_type": "text"
      },
      "source": [
        "<a href=\"https://colab.research.google.com/github/jmarcano101/data110/blob/main/Week5_Code.ipynb\" target=\"_parent\"><img src=\"https://colab.research.google.com/assets/colab-badge.svg\" alt=\"Open In Colab\"/></a>"
      ]
    },
    {
      "cell_type": "code",
      "source": [
        "# @title Default title text\n",
        "import pandas as pd\n",
        "import matplotlib.pyplot as plt\n",
        "import seaborn as sns"
      ],
      "metadata": {
        "id": "WE44hBR1Vy0x"
      },
      "execution_count": null,
      "outputs": []
    },
    {
      "cell_type": "code",
      "source": [
        "titanic_df=pd.read_csv('https://raw.githubusercontent.com/Reben80/Data110-32213/main/dataset/titanic.csv')\n",
        "titanic_df.head()"
      ],
      "metadata": {
        "id": "2PmWjG5BU7XJ"
      },
      "execution_count": null,
      "outputs": []
    },
    {
      "cell_type": "code",
      "source": [
        "plt.hist(titanic_df['age'])\n",
        "plt.show()"
      ],
      "metadata": {
        "id": "EJTrMAwCXlsL"
      },
      "execution_count": null,
      "outputs": []
    },
    {
      "cell_type": "markdown",
      "source": [],
      "metadata": {
        "id": "oz5ztJ_9ZVFS"
      }
    },
    {
      "cell_type": "markdown",
      "source": [
        "# Histograms depend on the chosen bin width"
      ],
      "metadata": {
        "id": "RIQo9bfvYpcC"
      }
    },
    {
      "cell_type": "code",
      "source": [
        "plt.hist(titanic_df['age'],bins=60)\n",
        "plt.show()"
      ],
      "metadata": {
        "id": "L0p-l76pYo4F"
      },
      "execution_count": null,
      "outputs": []
    },
    {
      "cell_type": "code",
      "source": [
        "plt.hist(titanic_df['age'],bins=30)\n",
        "plt.show()"
      ],
      "metadata": {
        "id": "jf9l7KinZgp6"
      },
      "execution_count": null,
      "outputs": []
    },
    {
      "cell_type": "code",
      "source": [
        "plt.hist(titanic_df['age'],bins=15)\n",
        "plt.show()"
      ],
      "metadata": {
        "id": "lvM6aGpdZxlm"
      },
      "execution_count": null,
      "outputs": []
    },
    {
      "cell_type": "code",
      "source": [
        "plt.hist(titanic_df['age'],bins=5)\n",
        "plt.show()"
      ],
      "metadata": {
        "id": "WD8ZulJbZxiX"
      },
      "execution_count": null,
      "outputs": []
    },
    {
      "cell_type": "code",
      "source": [
        "# Create a histogram for the age distribution\n",
        "plt.style.use('ggplot')\n",
        "plt.figure(figsize=(10, 6))\n",
        "plt.hist(titanic_df['age'], bins=15, color='skyblue',edgecolor='white')\n",
        "plt.title('Age Distribution of Titanic Passengers')\n",
        "plt.xlabel('Age(years)')\n",
        "plt.ylabel('count')\n",
        "plt.grid(axis='x')\n",
        "plt.xticks([0, 20, 40, 60])\n",
        "plt.tick_params(axis='x', colors='gray')  # Set x-axis tick colors to gray\n",
        "plt.show()\n"
      ],
      "metadata": {
        "id": "wcrujeV7aBEG"
      },
      "execution_count": null,
      "outputs": []
    },
    {
      "cell_type": "markdown",
      "source": [
        "# Alternative to histogram: Kernel density estimate (KDE)"
      ],
      "metadata": {
        "id": "i7KqLjpxZ6Rk"
      }
    },
    {
      "cell_type": "code",
      "source": [
        "sns.kdeplot(titanic_df['age'])\n",
        "plt.show()\n"
      ],
      "metadata": {
        "id": "RyoT7KZ4Z-b6"
      },
      "execution_count": null,
      "outputs": []
    },
    {
      "cell_type": "code",
      "source": [
        "sns.kdeplot(titanic_df['age'], shade=True)\n",
        "plt.show()\n"
      ],
      "metadata": {
        "id": "d6PABDeKdjqj"
      },
      "execution_count": null,
      "outputs": []
    },
    {
      "cell_type": "code",
      "source": [
        "plt.figure(figsize=(10, 6))\n",
        "sns.kdeplot(titanic_df['age'], shade=True, color=\"red\", alpha=0.7)\n",
        "plt.title('Kernel Density Estimate of Age for Titanic Passengers')\n",
        "plt.xlabel('Age')\n",
        "plt.ylabel('Density')\n",
        "plt.show()\n",
        "\n"
      ],
      "metadata": {
        "id": "NNWM6E0-Xc4n"
      },
      "execution_count": null,
      "outputs": []
    },
    {
      "cell_type": "markdown",
      "source": [
        "Histograms show raw counts, KDEs show proportions. (Total area = 1) ( Counts vs Density)"
      ],
      "metadata": {
        "id": "OuqQkyZ8eUMl"
      }
    },
    {
      "cell_type": "code",
      "source": [
        "plt.figure(figsize=(10, 6))\n",
        "sns.kdeplot(titanic_df['age'], bw_adjust=0.1, shade=True, color=\"red\", alpha=1)\n",
        "plt.title('Kernel Density Estimate of Age for Titanic Passengers')\n",
        "plt.xlabel('Age')\n",
        "plt.ylabel('Density')\n",
        "plt.show()\n"
      ],
      "metadata": {
        "id": "OaM7agYqeT6R"
      },
      "execution_count": null,
      "outputs": []
    },
    {
      "cell_type": "code",
      "source": [
        "plt.figure(figsize=(10, 6))\n",
        "sns.kdeplot(titanic_df['age'], bw_adjust=0.4, shade=True, color=\"red\", alpha=1)\n",
        "plt.title('Kernel Density Estimate of Age for Titanic Passengers')\n",
        "plt.xlabel('Age')\n",
        "plt.ylabel('Density')\n",
        "plt.show()\n"
      ],
      "metadata": {
        "id": "CDkPwtOFe_4m"
      },
      "execution_count": null,
      "outputs": []
    },
    {
      "cell_type": "code",
      "source": [
        "plt.figure(figsize=(10, 6))\n",
        "sns.kdeplot(titanic_df['age'], bw_adjust=0.7, shade=True, color=\"red\", alpha=1)\n",
        "plt.title('Kernel Density Estimate of Age for Titanic Passengers')\n",
        "plt.xlabel('Age')\n",
        "plt.ylabel('Density')\n",
        "plt.show()\n"
      ],
      "metadata": {
        "id": "j3OqQrQwfHEf"
      },
      "execution_count": null,
      "outputs": []
    },
    {
      "cell_type": "code",
      "source": [
        "plt.figure(figsize=(10, 6))\n",
        "sns.kdeplot(titanic_df['age'], bw_adjust=2, fill=True, color=\"red\", alpha=1)\n",
        "plt.title('Kernel Density Estimate of Age for Titanic Passengers')\n",
        "plt.xlabel('Age')\n",
        "plt.ylabel('Density')\n",
        "plt.show()\n"
      ],
      "metadata": {
        "id": "GRM-kRmCfJrs"
      },
      "execution_count": null,
      "outputs": []
    },
    {
      "cell_type": "markdown",
      "source": [
        "## Careful: Are bars stacked or overlapping?"
      ],
      "metadata": {
        "id": "jOp7uf8hfpyb"
      }
    },
    {
      "cell_type": "code",
      "source": [
        "\n",
        "\n",
        "# This section of the code filters the 'titanic_df' DataFrame to separate passengers based on their sex and extracts their ages.\n",
        "# First, it selects male passengers by checking if the 'sex' column equals 'male', then accesses their 'age' column to create a Series of ages for male passengers and stores it in 'ages_male'.\n",
        "# Similarly, it selects female passengers by filtering the DataFrame where the 'sex' column equals 'female', then retrieves their 'age' column to create a Series of ages for female passengers, stored in 'ages_female'.\n",
        "ages_male = titanic_df[titanic_df['sex'] == 'male']['age']\n",
        "ages_female = titanic_df[titanic_df['sex'] == 'female']['age']\n",
        "\n",
        "\n",
        "# Set the number of bins for the histogram\n",
        "bins = 15  # You can adjust this number as needed\n",
        "\n",
        "# Create a histogram with separate bars for males and females\n",
        "plt.figure(figsize=(10, 6))\n",
        "plt.hist([ages_male, ages_female], bins, label=['Male', 'Female'])\n",
        "\n",
        "# Add titles and labels\n",
        "plt.title('Age Distribution by Sex on the Titanic')\n",
        "plt.xlabel('Age')\n",
        "plt.ylabel('Count')\n",
        "plt.legend()\n",
        "\n",
        "# Show the plot\n",
        "plt.show()\n"
      ],
      "metadata": {
        "id": "-XV5rGdzfsnt"
      },
      "execution_count": null,
      "outputs": []
    },
    {
      "cell_type": "code",
      "source": [
        "# Create a histogram with stacked bars for males and females to visually represent the age distribution more compactly\n",
        "plt.figure(figsize=(10, 6))  # Adjusting figure size\n",
        "plt.hist([ages_male, ages_female],bins=15, stacked=True, edgecolor='white', label=['Male', 'Female'])\n",
        "\n",
        "# Customize the plot\n",
        "plt.xlabel('Age')\n",
        "plt.ylabel('Count')\n",
        "plt.title('Age Distribution of Titanic Passengers by Sex')\n",
        "plt.legend()\n",
        "plt.grid(axis='x')\n",
        "plt.xticks([0, 20, 40, 60])\n",
        "# Show the plot\n",
        "plt.show()\n",
        "\n"
      ],
      "metadata": {
        "id": "HiOgC7e0g7bH"
      },
      "execution_count": null,
      "outputs": []
    },
    {
      "cell_type": "code",
      "source": [
        "\n",
        "# Create the stacked histogram\n",
        "plt.figure(figsize=(10, 6))  # Adjust figure size as desired\n",
        "plt.hist(\n",
        "     [ages_male, ages_female],bins=20, stacked=True,label=['Male', 'Female'],edgecolor='white')\n",
        "\n",
        "# Customize the plot\n",
        "plt.xlabel('Age')\n",
        "plt.ylabel('Count')\n",
        "plt.title('Age Distribution of Titanic Passengers by Sex')\n",
        "plt.legend()\n",
        "plt.grid(axis='x')\n",
        "plt.xticks([0, 20, 40, 60])\n",
        "plt.tick_params(axis='x', colors='gray')  # Set x-axis tick colors to gray\n"
      ],
      "metadata": {
        "id": "E5J1HDWZiM8q"
      },
      "execution_count": null,
      "outputs": []
    },
    {
      "cell_type": "code",
      "source": [
        "plt.figure(figsize=(10, 6))\n",
        "\n",
        "# Plot the male histogram on the left by multiplying by -1 to mirror the males on the left side\n",
        "plt.hist(ages_male, bins=30, label='Male', alpha=0.5, color='blue', weights=[-1]*len(ages_male))\n",
        "\n",
        "# Plot the female histogram on the right\n",
        "plt.hist(ages_female, bins=30, label='Female', alpha=0.5, color='red')\n",
        "\n",
        "# Add labels and title\n",
        "plt.xlabel('Number of Passengers')\n",
        "plt.ylabel('Age')\n",
        "plt.title('Age Pyramid of Titanic Passengers')\n",
        "plt.legend(loc='upper right')\n",
        "\n",
        "# Fix the y-axis labels to be absolute values for clarity\n",
        "plt.yticks([-60,-40,-20,0, 20, 40, 60])\n",
        "\n",
        "plt.show()\n"
      ],
      "metadata": {
        "id": "rlhB2xo6ky9S"
      },
      "execution_count": null,
      "outputs": []
    },
    {
      "cell_type": "markdown",
      "source": [
        "## Alternatively: KDEs showing proportions of total"
      ],
      "metadata": {
        "id": "TuL5FPxfmXx8"
      }
    },
    {
      "cell_type": "code",
      "source": [
        "\n",
        "plt.figure(figsize=(10, 6))\n",
        "\n",
        "# KDE for total passengers\n",
        "sns.kdeplot(titanic_df['age'], bw_adjust=0.7, shade=True, color=\"red\", alpha=1, label='Total')\n",
        "\n",
        "# KDE for male passengers\n",
        "#sns.kdeplot(titanic_df[titanic_df['sex'] == 'male']['age'], bw_adjust=0.7, shade=True, color=\"blue\", alpha=0.7, label='Male')\n",
        "\n",
        "plt.title('Kernel Density Estimate of Age for Titanic Passengers')\n",
        "plt.xlabel('Age')\n",
        "plt.ylabel('Density')\n",
        "plt.legend() # Add a legend to distinguish the lines\n",
        "plt.show()\n"
      ],
      "metadata": {
        "id": "PQzjDoobmYeh"
      },
      "execution_count": null,
      "outputs": []
    },
    {
      "cell_type": "code",
      "source": [
        "plt.figure(figsize=(10, 6))\n",
        "\n",
        "# KDE for total passengers\n",
        "sns.kdeplot(titanic_df['age'], bw_adjust=0.7, shade=True, color=\"red\", alpha=1, label='Total')\n",
        "\n",
        "# KDE for male passengers\n",
        "sns.kdeplot(titanic_df[titanic_df['sex'] == 'male']['age'], bw_adjust=0.7, shade=True, color=\"pink\", alpha=0.7, label='female')\n",
        "\n",
        "plt.title('Kernel Density Estimate of Age for Titanic Passengers')\n",
        "plt.xlabel('Age')\n",
        "plt.ylabel('Density')\n",
        "plt.legend() # Add a legend to distinguish the lines\n",
        "plt.show()"
      ],
      "metadata": {
        "id": "fQV364YC0VzM"
      },
      "execution_count": null,
      "outputs": []
    },
    {
      "cell_type": "code",
      "source": [
        "plt.figure(figsize=(10, 6))\n",
        "# KDE for total passengers\n",
        "sns.kdeplot(titanic_df['age'], bw_adjust=0.7, shade=True, color=\"black\", alpha=1, label='Total')\n",
        "# KDE for total passengers\n",
        "sns.kdeplot(titanic_df[titanic_df['sex'] == 'male']['age'], bw_adjust=0.7, shade=True, color=\"red\", alpha=0.7, label='male')\n",
        "\n",
        "# KDE for male passengers\n",
        "sns.kdeplot(titanic_df[titanic_df['sex'] == 'female']['age'], bw_adjust=0.7, shade=True, color=\"skyblue\", alpha=0.7, label='female')\n",
        "\n",
        "plt.title('Kernel Density Estimate of Age for Titanic Passengers')\n",
        "plt.xlabel('Age')\n",
        "plt.ylabel('Density')\n",
        "plt.legend() # Add a legend to distinguish the lines\n",
        "plt.show()"
      ],
      "metadata": {
        "id": "cIgE9t5tydUd"
      },
      "execution_count": null,
      "outputs": []
    },
    {
      "cell_type": "markdown",
      "source": [
        "## Pie Chart"
      ],
      "metadata": {
        "id": "jUiMZcXC_zmS"
      }
    },
    {
      "cell_type": "code",
      "source": [
        "# Now, create a pie chart with labels\n",
        "sex_counts = titanic_df['sex'].value_counts()\n",
        "labels = sex_counts.index  # This should give you ['male', 'female'] or the other way around depending on your dataset\n",
        "plt.figure(figsize=(8, 8))  # Optional: Specifies the figure size\n",
        "plt.pie(sex_counts, labels=labels,)  # autopct shows the percentage of each slice\n",
        "plt.title('Distribution of Passengers by Sex')  # Adds a title to the pie chart\n",
        "plt.legend()\n",
        "plt.show()"
      ],
      "metadata": {
        "id": "JttEguIs_EgD"
      },
      "execution_count": null,
      "outputs": []
    },
    {
      "cell_type": "code",
      "source": [
        "DT=sns.load_dataset('titanic')"
      ],
      "metadata": {
        "id": "lCGy5yA8AN_5"
      },
      "execution_count": null,
      "outputs": []
    }
  ]
}