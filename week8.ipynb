{
  "nbformat": 4,
  "nbformat_minor": 0,
  "metadata": {
    "colab": {
      "private_outputs": true,
      "provenance": [],
      "include_colab_link": true
    },
    "kernelspec": {
      "name": "python3",
      "display_name": "Python 3"
    },
    "language_info": {
      "name": "python"
    }
  },
  "cells": [
    {
      "cell_type": "markdown",
      "metadata": {
        "id": "view-in-github",
        "colab_type": "text"
      },
      "source": [
        "<a href=\"https://colab.research.google.com/github/jmarcano101/data110/blob/main/week8.ipynb\" target=\"_parent\"><img src=\"https://colab.research.google.com/assets/colab-badge.svg\" alt=\"Open In Colab\"/></a>"
      ]
    },
    {
      "cell_type": "markdown",
      "source": [
        "# Adding package"
      ],
      "metadata": {
        "id": "mMBoBLu5EDVi"
      }
    },
    {
      "cell_type": "code",
      "execution_count": null,
      "metadata": {
        "id": "dnXZ1YzT32aF"
      },
      "outputs": [],
      "source": [
        "import seaborn as sns\n",
        "import matplotlib.pyplot as plt\n",
        "import pandas as pd\n",
        "\n",
        "\n",
        "\n",
        "\n",
        "\n"
      ]
    },
    {
      "cell_type": "code",
      "source": [
        "# Load the penguins dataset\n",
        "penguins = sns.load_dataset(\"penguins\")\n",
        "\n",
        "# Display the first few rows of the dataframe\n",
        "print(penguins.head())\n",
        "print(type(penguins))\n"
      ],
      "metadata": {
        "id": "cNdQhYv04GYi"
      },
      "execution_count": null,
      "outputs": []
    },
    {
      "cell_type": "code",
      "source": [
        "penguins.info()"
      ],
      "metadata": {
        "id": "yOUtvht54UoE"
      },
      "execution_count": null,
      "outputs": []
    },
    {
      "cell_type": "code",
      "source": [
        "\n",
        "# Load the penguins dataset from seaborn\n",
        "penguins = sns.load_dataset(\"penguins\")\n",
        "\n",
        "# Define colors for each species\n",
        "colors = {'Adelie': 'blue', 'Chinstrap': 'green', 'Gentoo': 'red'}\n",
        "\n",
        "# Plot each species\n",
        "for species, color in colors.items():\n",
        "    subset = penguins[penguins['species'] == species]\n",
        "    plt.scatter(subset['bill_length_mm'], subset['bill_depth_mm'], color=color, label=species)\n",
        "\n",
        "plt.xlabel('Bill Length (mm)')\n",
        "plt.ylabel('Bill Depth (mm)')\n",
        "plt.legend(title='Species')\n",
        "plt.show()\n"
      ],
      "metadata": {
        "id": "m4j0-8Kv4UVr"
      },
      "execution_count": null,
      "outputs": []
    },
    {
      "cell_type": "markdown",
      "source": [
        "### Filter out penguins of species Gentoo"
      ],
      "metadata": {
        "id": "d-rBhefY7EMz"
      }
    },
    {
      "cell_type": "code",
      "source": [
        "# Filter the dataset for rows where species is 'Gentoo'\n",
        "gentoo_penguins = penguins[penguins['species'] == 'Gentoo']\n",
        "\n",
        "# Display the first few rows of the filtered DataFrame\n",
        "print(gentoo_penguins.head())\n"
      ],
      "metadata": {
        "id": "PJUW8S-h5KnT"
      },
      "execution_count": null,
      "outputs": []
    },
    {
      "cell_type": "markdown",
      "source": [
        "### Filter out penguins with bill length > 50 mm"
      ],
      "metadata": {
        "id": "ThKNplsm7UN_"
      }
    },
    {
      "cell_type": "code",
      "source": [
        "X=penguins[penguins['bill_length_mm']>50]\n",
        "X.head()"
      ],
      "metadata": {
        "id": "ZdKpj9P65Kbf"
      },
      "execution_count": null,
      "outputs": []
    },
    {
      "cell_type": "markdown",
      "source": [
        "## Pick columns from a table: select()"
      ],
      "metadata": {
        "id": "Tx4UfmGE79I_"
      }
    },
    {
      "cell_type": "code",
      "source": [
        "selected_columns = penguins[['species', 'island', 'sex']]\n"
      ],
      "metadata": {
        "id": "Rzu4uS7T781S"
      },
      "execution_count": null,
      "outputs": []
    },
    {
      "cell_type": "markdown",
      "source": [
        "## Sort penguins by bill length, ascending"
      ],
      "metadata": {
        "id": "DKvwck0k8gT4"
      }
    },
    {
      "cell_type": "code",
      "source": [
        "# From Small to Large\n",
        "\n",
        "sorted_penguins = penguins.sort_values(by='bill_length_mm')\n",
        "sorted_penguins.head()\n",
        "\n",
        "#From Large to Small\n",
        "\n",
        "\n",
        "sorted_penguins_desc = penguins.sort_values(by='bill_length_mm', ascending=False)\n",
        "sorted_penguins_desc.head()\n"
      ],
      "metadata": {
        "id": "Nfy-MmIv8JQd"
      },
      "execution_count": null,
      "outputs": []
    },
    {
      "cell_type": "markdown",
      "source": [
        "## Counting things"
      ],
      "metadata": {
        "id": "y66Td6ke9GBq"
      }
    },
    {
      "cell_type": "code",
      "source": [
        "penguins"
      ],
      "metadata": {
        "id": "pgQc_81F9FvL"
      },
      "execution_count": null,
      "outputs": []
    },
    {
      "cell_type": "code",
      "source": [
        "penguins['bill_depth_mm']"
      ],
      "metadata": {
        "id": "X6Pjlsj19SFN"
      },
      "execution_count": null,
      "outputs": []
    },
    {
      "cell_type": "code",
      "source": [
        "penguins['bill_depth_mm'].value_counts()"
      ],
      "metadata": {
        "id": "nvg-s-vK9ael"
      },
      "execution_count": null,
      "outputs": []
    },
    {
      "cell_type": "code",
      "source": [
        "penguins['island'].value_counts()"
      ],
      "metadata": {
        "id": "Z1P90ERo9sUN"
      },
      "execution_count": null,
      "outputs": []
    },
    {
      "cell_type": "code",
      "source": [
        "# Calculate value counts\n",
        "island_counts = penguins['island'].value_counts()\n",
        "\n",
        "# Plot\n",
        "plt.bar(island_counts.index, island_counts.values)\n",
        "plt.xlabel('Island')\n",
        "plt.ylabel('Count')\n",
        "plt.title('Number of Penguins by Island')\n",
        "plt.show()"
      ],
      "metadata": {
        "id": "jbTSsJJI90Mt"
      },
      "execution_count": null,
      "outputs": []
    },
    {
      "cell_type": "code",
      "source": [
        "# Count the number of occurrences for each combination of 'species' and 'island'\n",
        "species_island_counts = penguins.groupby(['species', 'island']).size().reset_index()\n",
        "\n",
        "# Display the result\n",
        "print(species_island_counts)\n"
      ],
      "metadata": {
        "id": "jizGDacB_G61"
      },
      "execution_count": null,
      "outputs": []
    },
    {
      "cell_type": "code",
      "source": [
        "# Count the number of occurrences for each combination of 'species' and 'island'\n",
        "species_island_counts_names = penguins.groupby(['species', 'island']).size()\n",
        "\n",
        "# Display the result\n",
        "print(species_island_counts_names)"
      ],
      "metadata": {
        "id": "vFUT9Tcp_WLn"
      },
      "execution_count": null,
      "outputs": []
    },
    {
      "cell_type": "code",
      "source": [
        "# Count the number of occurrences for each combination of 'species' and 'island'\n",
        "species_island_counts_names = penguins.groupby(['species', 'island']).size().reset_index(name='Counts')\n",
        "\n",
        "# Display the result\n",
        "print(species_island_counts_names)"
      ],
      "metadata": {
        "id": "iPCJa-SW_wAQ"
      },
      "execution_count": null,
      "outputs": []
    },
    {
      "cell_type": "code",
      "source": [
        "# Assuming the penguins dataset is loaded into a pandas DataFrame named 'penguins'\n",
        "adelie_penguins = penguins[penguins['species'] == 'Adelie']"
      ],
      "metadata": {
        "id": "lWtSKZWAAMzy"
      },
      "execution_count": null,
      "outputs": []
    },
    {
      "cell_type": "code",
      "source": [
        "# Filter for 'Adelie' species and select 'island' and 'sex' columns\n",
        "adelie_data = penguins[penguins['species'] == 'Adelie'][['island', 'sex']]\n",
        "\n",
        "# Display the first few rows of the resulting DataFrame\n",
        "print(adelie_data.head())\n"
      ],
      "metadata": {
        "id": "feBiAaOmAd7e"
      },
      "execution_count": null,
      "outputs": []
    },
    {
      "cell_type": "code",
      "source": [
        "# Filter, select, and count\n",
        "adelie_counts = penguins[penguins['species'] == 'Adelie'][['island', 'sex']] \\\n",
        "    .groupby(['island', 'sex']) \\\n",
        "    .size() \\\n",
        "    .reset_index()\n",
        "\n",
        "# Display the results\n",
        "print(adelie_counts)\n"
      ],
      "metadata": {
        "id": "1prQ6YODBPfb"
      },
      "execution_count": null,
      "outputs": []
    },
    {
      "cell_type": "markdown",
      "source": [
        "This process involves:\n",
        "\n",
        "1. Filtering the penguins DataFrame to include only the rows for \"Adelie\" penguins.\n",
        "2. Selecting just the island and sex columns from the filtered DataFrame.\n",
        "3. Using groupby(['island', 'sex']) to group the data by both island and sex.\n",
        "4. Applying .size() to each group to count the number of occurrences, which gives you the count of \"Adelie\" penguins for each combination of island and sex.\n",
        "5. The .reset_index(name='count') part transforms the Series returned by .size() into a DataFrame and names the count column as 'count'."
      ],
      "metadata": {
        "id": "yCIhPmrhBlG5"
      }
    },
    {
      "cell_type": "code",
      "source": [
        "# Filter, select, and count\n",
        "adelie_counts = penguins[penguins['species'] == 'Adelie'][['island', 'sex']] \\\n",
        "    .groupby(['sex','island']) \\\n",
        "    .size() \\\n",
        "    .reset_index(name='count')\n",
        "\n",
        "# Display the results\n",
        "print(adelie_counts)\n"
      ],
      "metadata": {
        "id": "uRvi7-0ABEOU"
      },
      "execution_count": null,
      "outputs": []
    },
    {
      "cell_type": "markdown",
      "source": [
        "## Adding Column"
      ],
      "metadata": {
        "id": "px8PTk4oC-ZD"
      }
    },
    {
      "cell_type": "code",
      "source": [
        "\n",
        "# Select specific columns (this step is actually optional for adding a new column)\n",
        "penguins_selected = penguins[['species', 'island', 'flipper_length_mm']]\n",
        "\n",
        "# Add a new column for flipper length in cm\n",
        "penguins_selected['flipper_length_cm'] = penguins_selected['flipper_length_mm'] / 10\n",
        "\n",
        "# Display the first few rows to verify the new column\n",
        "print(penguins_selected.head())\n"
      ],
      "metadata": {
        "id": "e2zlwopWDAvi"
      },
      "execution_count": null,
      "outputs": []
    },
    {
      "cell_type": "code",
      "source": [
        "\n",
        "# Add new columns for flipper length in cm and in inches\n",
        "penguins['flipper_length_cm'] = penguins['flipper_length_mm'] / 10\n",
        "penguins['flipper_length_in'] = penguins['flipper_length_mm'] / 25.4\n",
        "\n",
        "# If you wish to only keep certain columns in the final DataFrame:\n",
        "penguins = penguins[['species', 'island', 'flipper_length_mm', 'flipper_length_cm', 'flipper_length_in']]\n",
        "\n",
        "# Display the first few rows to verify the new columns\n",
        "print(penguins.head())\n"
      ],
      "metadata": {
        "id": "IzdP3VFzD1m7"
      },
      "execution_count": null,
      "outputs": []
    }
  ]
}