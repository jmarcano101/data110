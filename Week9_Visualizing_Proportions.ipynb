{
  "nbformat": 4,
  "nbformat_minor": 0,
  "metadata": {
    "colab": {
      "private_outputs": true,
      "provenance": [],
      "include_colab_link": true
    },
    "kernelspec": {
      "name": "python3",
      "display_name": "Python 3"
    },
    "language_info": {
      "name": "python"
    }
  },
  "cells": [
    {
      "cell_type": "markdown",
      "metadata": {
        "id": "view-in-github",
        "colab_type": "text"
      },
      "source": [
        "<a href=\"https://colab.research.google.com/github/jmarcano101/data110/blob/main/Week9_Visualizing_Proportions.ipynb\" target=\"_parent\"><img src=\"https://colab.research.google.com/assets/colab-badge.svg\" alt=\"Open In Colab\"/></a>"
      ]
    },
    {
      "cell_type": "markdown",
      "source": [
        "let's start by loading the necessary packages. We'll use pandas for handling our data, matplotlib.pyplot for creating visualizations, and numpy for any numerical operations we might need. Ensuring these libraries are imported at the beginning sets us up with the tools we need to dive into the data and its presentation."
      ],
      "metadata": {
        "id": "ki8065wLm-5F"
      }
    },
    {
      "cell_type": "code",
      "source": [
        "import pandas as pd\n",
        "import matplotlib.pyplot as plt\n",
        "import numpy as np"
      ],
      "metadata": {
        "id": "NwGY6dUuevLC"
      },
      "execution_count": null,
      "outputs": []
    },
    {
      "cell_type": "markdown",
      "source": [
        "Next, we'll use some sample data to plot a pie chart. Pie charts are awesome for showing how different parts make up a whole. Let’s create our data to see this in action."
      ],
      "metadata": {
        "id": "PVxu9e6WndLZ"
      }
    },
    {
      "cell_type": "code",
      "source": [
        "\n",
        "\n",
        "# Data\n",
        "labels = ['A', 'B', 'C', 'D']\n",
        "sizes = [15, 30, 45, 10]\n",
        "\n",
        "# Plot\n",
        "plt.pie(sizes, labels=labels, autopct='%1.1f%%', startangle=140)\n",
        "plt.axis('equal')  # Equal aspect ratio ensures that pie is drawn as a circle\n",
        "plt.show()\n"
      ],
      "metadata": {
        "id": "LWR-ZnDQ9JDh"
      },
      "execution_count": null,
      "outputs": []
    },
    {
      "cell_type": "markdown",
      "source": [
        "Now, we’ll create data representing the seats distribution in the 8th German Bundestag. Our dataset includes three parties: CDU/CSU, SPD, and FDP, along with the number of seats they hold. We'll put this information into a pandas DataFrame, setting the stage for our pie chart visualization."
      ],
      "metadata": {
        "id": "A8Kr8cXjn0nQ"
      }
    },
    {
      "cell_type": "code",
      "execution_count": null,
      "metadata": {
        "id": "gZBruE5peW8T"
      },
      "outputs": [],
      "source": [
        "\n",
        "\n",
        "# Data for the 8th German Bundestag\n",
        "data = {\n",
        "    'Party': ['CDU/CSU', 'SPD', 'FDP'],\n",
        "    'Seats': [243, 214, 39]\n",
        "}\n",
        "\n",
        "# Create the DataFrame\n",
        "bundestag_df = pd.DataFrame(data)\n",
        "\n",
        "# Create Pie Plot\n",
        "plt.pie(bundestag_df['Seats'])\n",
        "plt.legend(bundestag_df['Party'], title=\"Parties\")\n",
        "plt.axis('equal')  # Equal aspect ratio ensures that pie is drawn as a circle.\n",
        "plt.title('Party composition of the 8th German Bundestag, 1976–1980')\n",
        "plt.show()\n",
        "\n"
      ]
    },
    {
      "cell_type": "markdown",
      "source": [
        "Now, we will do more change to add more readability by adding labels to our pie chart and using autopct, we enable the display of each party's share of the total directly on the chart. This makes our visualization more informative. We cap off our plot with a title that situates us in the historical context of the 8th German Bundestag."
      ],
      "metadata": {
        "id": "vcNhzPPTofhZ"
      }
    },
    {
      "cell_type": "code",
      "source": [
        "\n",
        "# Plotting the pie chart\n",
        "plt.pie(bundestag_df['Seats'], labels=bundestag_df['Party'], autopct='%1.1f%%')\n",
        "\n",
        "# Title for the pie chart\n",
        "plt.title('Party composition of the 8th German Bundestag, 1976–1980')\n",
        "\n",
        "# Display the plot\n",
        "plt.show()\n",
        "\n"
      ],
      "metadata": {
        "id": "j9rH7BYUgM6M"
      },
      "execution_count": null,
      "outputs": []
    },
    {
      "cell_type": "markdown",
      "source": [
        "For style, we'll apply the 'ggplot' style to our plot. Additionally, we'll start our pie chart at a 90-degree angle ( by using `startangle` ) to ensure our first slice aligns vertically at the top. This adjustment can help make certain parts of the data viewed better. Let's see how these tweaks enhance our visualization."
      ],
      "metadata": {
        "id": "ZfcNrAOVpSgp"
      }
    },
    {
      "cell_type": "code",
      "source": [
        "\n",
        "\n",
        "#Use the ggplot style\n",
        "plt.style.use('ggplot')\n",
        "\n",
        "# Plotting the pie chart\n",
        "plt.pie(bundestag_df['Seats'], labels=bundestag_df['Party'], autopct='%1.1f%%', startangle=90)\n",
        "plt.axis('equal')\n",
        "plt.show()\n"
      ],
      "metadata": {
        "id": "XE3XnFaviHi_"
      },
      "execution_count": null,
      "outputs": []
    },
    {
      "cell_type": "markdown",
      "source": [
        "let's switch to a stacked bar chart to visualize the Bundestag's party composition. Each party gets a color—grey for CDU/CSU, red for SPD, and yellow for FDP—making the chart easy to read and visually appealing. We stack the bars to show each party's seat share atop the previous, offering a clear view of the overall distribution.\n"
      ],
      "metadata": {
        "id": "WLv7r8h7p2MI"
      }
    },
    {
      "cell_type": "code",
      "source": [
        "\n",
        "# Use ggplot style\n",
        "plt.style.use('ggplot')\n",
        "\n",
        "# Create a figure and a set of subplots\n",
        "fig, ax = plt.subplots()\n",
        "\n",
        "# Data setup\n",
        "parties = bundestag_df['Party']\n",
        "seats = bundestag_df['Seats']\n",
        "colors = ['grey', 'red', 'yellow']  # Example colors for the parties\n",
        "\n",
        "# Cumulative sum to stack the bars\n",
        "cumulative_seats = np.cumsum(seats)\n",
        "\n",
        "# Create a bar for each party\n",
        "for i, (party, seat) in enumerate(zip(parties, seats)):\n",
        "    if i == 0:\n",
        "        ax.bar('Bundestag', seat, label=party, color=colors[i])\n",
        "    else:\n",
        "        ax.bar('Bundestag', seat, bottom=cumulative_seats[i-1], label=party, color=colors[i])\n",
        "\n",
        "# Adding labels and title\n",
        "ax.set_ylabel('Seats')\n",
        "ax.set_title('Party composition of the 8th German Bundestag, 1976–1980')\n",
        "ax.legend()\n",
        "\n",
        "# Show the plot\n",
        "plt.show()\n"
      ],
      "metadata": {
        "id": "SG4zKwzbjR2H"
      },
      "execution_count": null,
      "outputs": []
    },
    {
      "cell_type": "markdown",
      "source": [
        "Using a loop to create our graph is especially handy when dealing with multiple categories, each one gets its spot in the stacked bar without manually plotting each segment. This approach not only simplifies the coding process but also makes our script more adaptable to datasets of varying sizes. By iterating over each party and stacking their seats on top of each other, we efficiently visualize the composition of the Bundestag in a way that's both scalable and easy to interpret."
      ],
      "metadata": {
        "id": "RFLNK_UDqYEK"
      }
    },
    {
      "cell_type": "code",
      "source": [
        "\n",
        "plt.figure(figsize=(4,8))\n",
        "# Initialize a base value for the bottom parameter of each bar\n",
        "bottom_value = 0\n",
        "\n",
        "# Plot each party's seats as a segment of a stacked bar\n",
        "for index, row in bundestag_df.iterrows():\n",
        "    plt.bar('Bundestag', row['Seats'], bottom=bottom_value, label=row['Party'])\n",
        "    bottom_value += row['Seats']\n",
        "\n",
        "plt.ylabel('Seats')\n",
        "plt.title('Party composition of the 8th German Bundestag, 1976–1980')\n",
        "plt.legend()\n",
        "plt.show()\n"
      ],
      "metadata": {
        "id": "_AqUQSzlkAI_"
      },
      "execution_count": null,
      "outputs": []
    },
    {
      "cell_type": "markdown",
      "source": [
        "# Enumerate Function\n",
        "\n",
        "The `enumerate` function allows you to iterate over a sequence of items and get a counter (index) for each item. It returns an enumerate object, which produces pairs of (index, value) during iteration.\n",
        "\n",
        "Here's an example of how to use the `enumerate` function:\n",
        "\n",
        "```python\n",
        "fruits = ['apple', 'banana', 'cherry']\n",
        "\n",
        "for i, fruit in enumerate(fruits):\n",
        "  print(i, fruit)\n",
        "```\n",
        "Will print\n",
        "```python\n",
        "0 apple\n",
        "1 banana\n",
        "2 cherry\n",
        "\n",
        "```"
      ],
      "metadata": {
        "id": "7U1W5sLGo2tX"
      }
    },
    {
      "cell_type": "markdown",
      "source": [
        "Another way to do compare proportions, bar graph."
      ],
      "metadata": {
        "id": "K7m5Ikm9q_vF"
      }
    },
    {
      "cell_type": "code",
      "source": [
        "\n",
        "\n",
        "# Use ggplot style for a cleaner look\n",
        "plt.style.use('ggplot')\n",
        "\n",
        "# Create the bar chart with customized colors and bar width\n",
        "plt.bar(bundestag_df['Party'], bundestag_df['Seats'], color=['red', 'green', 'blue'], width=0.6)\n",
        "\n",
        "# Add titles and labels for clarity\n",
        "plt.title('Party Composition of the 8th German Bundestag, 1976-1980')\n",
        "plt.xlabel('Party')\n",
        "plt.ylabel('Number of Seats')\n",
        "\n",
        "# Improve the layout for better readability\n",
        "plt.xticks(rotation=45)  # Rotate party names for better fit\n",
        "plt.tight_layout()  # Adjust layout to make room for the rotated party names\n",
        "\n",
        "# Add a grid for easier comparison\n",
        "plt.grid(axis='y', linestyle='--', alpha=0.7)\n",
        "\n",
        "# Annotate the number of seats above each bar for direct readability\n",
        "for i, value in enumerate(bundestag_df['Seats']):\n",
        "    plt.text(i, value -20, str(value), ha='center', va='bottom',color='white')\n",
        "\n",
        "# Show the plot\n",
        "plt.show()\n"
      ],
      "metadata": {
        "id": "v-_H3e_WmmwA"
      },
      "execution_count": null,
      "outputs": []
    },
    {
      "cell_type": "markdown",
      "source": [
        "Next, we'll create a Donut Chart, which involves first crafting a pie chart and then strategically placing a white circle in its center. This simple yet effective modification transforms the traditional pie chart into a visually appealing donut chart."
      ],
      "metadata": {
        "id": "bDXWqfWtrK9F"
      }
    },
    {
      "cell_type": "code",
      "source": [
        "# Assuming bundestag_df is already defined and includes 'Party' and 'Seats'\n",
        "seats = bundestag_df['Seats']\n",
        "parties = bundestag_df['Party']\n",
        "\n",
        "# Create pie chart as usual\n",
        "fig, ax = plt.subplots()\n",
        "ax.pie(seats, labels=parties, startangle=90, autopct='%1.1f%%')\n",
        "\n",
        "# Draw a circle at the center to turn the pie chart into a donut chart\n",
        "centre_circle = plt.Circle((0,0),0.7,fc='white')\n",
        "fig = plt.gcf()\n",
        "fig.gca().add_artist(centre_circle)\n",
        "\n",
        "plt.show()\n"
      ],
      "metadata": {
        "id": "SVDHXrlUlMgi"
      },
      "execution_count": null,
      "outputs": []
    },
    {
      "cell_type": "markdown",
      "source": [
        "Another way to display proportion is Mosaic Plots. **Mosaic plots** are a powerful visual tool for analyzing and displaying the relationship between two or more categorical variables. They provide a quick, intuitive overview of how different categories interact, making them particularly useful for spotting patterns or inconsistencies in complex datasets. In the following example, we'll explore the use of a mosaic plot to examine the relationship between two categorical variables: the city (New York or Los Angeles) and weather conditions (Sunny, Cloudy, or Rainy).\n",
        "\n",
        "We'll start by preparing our data and converting it into a Pandas DataFrame. Then, utilizing the mosaic function from the **statsmodels** library, we'll create a mosaic plot that visually represents the distribution of weather conditions across these two cities. This method allows us to observe not only the frequency of each weather condition but also how these frequencies compare between different cities. Let's proceed with the code to generate our mosaic plot."
      ],
      "metadata": {
        "id": "fMZ47xyltdi4"
      }
    },
    {
      "cell_type": "code",
      "source": [
        "from statsmodels.graphics.mosaicplot import mosaic\n",
        "\n",
        "\n",
        "# Set the style for nicer colors\n",
        "plt.style.use('ggplot')\n",
        "\n",
        "# Example data with different categories\n",
        "data = {\n",
        "    'City': ['New York', 'Los Angeles', 'New York', 'Los Angeles', 'New York', 'Los Angeles', 'New York', 'Los Angeles', 'New York'],\n",
        "    'Weather': ['Sunny', 'Cloudy', 'Sunny', 'Cloudy', 'Rainy', 'Sunny', 'Cloudy', 'Rainy', 'Rainy']\n",
        "}\n",
        "\n",
        "# Convert the data into a DataFrame\n",
        "df = pd.DataFrame(data)\n",
        "\n",
        "# Create a mosaic plot with the new categorical variables\n",
        "plt.figure(figsize=(6, 4))\n",
        "mosaic(df, ['City', 'Weather'])\n",
        "plt.show()\n"
      ],
      "metadata": {
        "id": "8yr2AP9Jwbws"
      },
      "execution_count": null,
      "outputs": []
    },
    {
      "cell_type": "markdown",
      "source": [
        "!!! **New Toppic: Veroni Diagram **"
      ],
      "metadata": {
        "id": "YKyKAmWxt9tU"
      }
    },
    {
      "cell_type": "markdown",
      "source": [
        "### John Snow's map\n",
        "\n",
        "In the mid-19th century, [John Snow's](https://www.google.com/search?q=John+Snow%27s&client=safari&sca_esv=6480816f92634337&rls=en&sxsrf=ACQVn0_Ykfu2l7-KQxPNj4nsEv-MHmdmwQ%3A1712764578182&ei=orYWZqrQCsvZ5NoPrOq_2AE&ved=0ahUKEwiqqZCigbiFAxXLLFkFHSz1DxsQ4dUDCA8&uact=5&oq=John+Snow%27s&gs_lp=Egxnd3Mtd2l6LXNlcnAiC0pvaG4gU25vdydzMgoQIxiABBiKBRgnMgoQIxiABBiKBRgnMgoQABiABBgUGIcCMgcQABiABBgKMgcQABiABBgKMgcQABiABBgKMgUQABiABDIHEAAYgAQYCjIFEAAYgAQyBxAAGIAEGApIvQhQkgZYkgZwAHgCkAEAmAHgAaABswOqAQMyLTK4AQPIAQD4AQGYAgOgAvoBwgIEEAAYR5gDAIgGAZAGCJIHBTIuMC4xoAfhDw&sclient=gws-wiz-serp) groundbreaking cholera map visually linked cholera cases to water sources in London, pioneering the use of geographic mapping in epidemiology. Building on this historical example, we'll explore the creation of a Voronoi diagram, a tool that partitions a plane into regions based on distance to points in a specific subset of the plane. This concept can help us understand how geographical proximity could influence disease spread or resource accessibility.\n",
        "\n",
        "Utilizing John Snow's map as inspiration, we'll generate a Voronoi diagram to simulate how different water sources might serve distinct areas or influence health outcomes in a modern context. This approach not only pays homage to Snow's innovative work but also demonstrates the continued relevance of geographic analysis in public health and urban planning. Let's dive into the process.\n"
      ],
      "metadata": {
        "id": "pL8xHIcj2qsa"
      }
    },
    {
      "cell_type": "code",
      "source": [
        "pump_df = pd.read_csv('https://raw.githubusercontent.com/yy/dviz-course/master/data/pumps.csv')"
      ],
      "metadata": {
        "id": "ZOJR3_B92pAo"
      },
      "execution_count": null,
      "outputs": []
    },
    {
      "cell_type": "code",
      "source": [
        "pump_df.sample(5)"
      ],
      "metadata": {
        "id": "fClEtspw2veM"
      },
      "execution_count": null,
      "outputs": []
    },
    {
      "cell_type": "code",
      "source": [
        "# finding number of pumps\n",
        "len(pump_df)"
      ],
      "metadata": {
        "id": "3UOAQJZ028nD"
      },
      "execution_count": null,
      "outputs": []
    },
    {
      "cell_type": "code",
      "source": [
        "# we can use shape two, but it give us number of row and column we only interested in the first output which is row\n",
        "pump_df.shape  # 13 rows and 2 columns"
      ],
      "metadata": {
        "id": "eLqnXQ0G29uv"
      },
      "execution_count": null,
      "outputs": []
    },
    {
      "cell_type": "code",
      "source": [
        "#loading deats dataset\n",
        "death_df=pd.read_csv('https://raw.githubusercontent.com/yy/dviz-course/master/data/deaths.csv')"
      ],
      "metadata": {
        "id": "LyE9uYOi3CZG"
      },
      "execution_count": null,
      "outputs": []
    },
    {
      "cell_type": "code",
      "source": [
        "plt.scatter(x=death_df['X'], y=death_df['Y'], label='Deaths', s=2, c='black')\n",
        "plt.xlabel('X')\n",
        "plt.ylabel('Y')\n",
        "plt.title('Scatter Plot of Deaths')\n",
        "plt.legend()\n",
        "plt.show()\n"
      ],
      "metadata": {
        "id": "884_wigD3RML"
      },
      "execution_count": null,
      "outputs": []
    },
    {
      "cell_type": "code",
      "source": [
        "# Scatter plot for deaths\n",
        "plt.scatter(x=death_df['X'], y=death_df['Y'], s=2, c='black', label='Deaths')\n",
        "\n",
        "# Scatter plot for pumps\n",
        "plt.scatter(x=pump_df['X'], y=pump_df['Y'], s=8, c='red', label='Pumps')\n",
        "\n",
        "# Adding labels and legend\n",
        "plt.xlabel('X')\n",
        "plt.ylabel('Y')\n",
        "plt.title('Scatter Plot of Deaths and Pumps')\n",
        "plt.legend()\n",
        "\n",
        "# Show the plot\n",
        "plt.show()\n"
      ],
      "metadata": {
        "id": "CujiDZ-b3n0u"
      },
      "execution_count": null,
      "outputs": []
    },
    {
      "cell_type": "code",
      "source": [
        "from scipy.spatial import Voronoi, voronoi_plot_2d"
      ],
      "metadata": {
        "id": "aHIxJEYf3wx8"
      },
      "execution_count": null,
      "outputs": []
    },
    {
      "cell_type": "code",
      "source": [
        "# Get the points from the pump_df DataFrame\n",
        "points = pump_df.values\n",
        "\n",
        "# Compute Voronoi tessellation\n",
        "vor = Voronoi(points)\n",
        "\n",
        "# Plot Voronoi diagram\n",
        "voronoi_plot_2d(vor, show_vertices=False)\n",
        "\n",
        "# Scatter plot of pump locations\n",
        "plt.scatter(pump_df['X'], pump_df['Y'], c='red', label='Pumps')\n",
        "\n",
        "# Add labels and legend\n",
        "plt.xlabel('X')\n",
        "plt.ylabel('Y')\n",
        "plt.title('Voronoi Diagram of Pump Locations')\n",
        "plt.legend()\n",
        "\n",
        "# Show the plot\n",
        "plt.show()\n"
      ],
      "metadata": {
        "id": "lJobEEQ83xqK"
      },
      "execution_count": null,
      "outputs": []
    },
    {
      "cell_type": "code",
      "source": [
        "\n",
        "\n",
        "# Compute Voronoi tessellation\n",
        "vor = Voronoi(points)\n",
        "\n",
        "# Plot Voronoi diagram\n",
        "voronoi_plot_2d(vor, show_vertices=False)\n",
        "\n",
        "# Scatter plot of pump locations\n",
        "plt.scatter(pump_df['X'], pump_df['Y'], c='red', label='Pumps')\n",
        "\n",
        "# Scatter plot of death locations\n",
        "plt.scatter(death_df['X'], death_df['Y'], s=2, c='black', label='Deaths')\n",
        "\n",
        "# Add labels and legend\n",
        "plt.xlabel('X')\n",
        "plt.ylabel('Y')\n",
        "plt.title('Voronoi Diagram with Deaths and Pumps')\n",
        "plt.legend()\n",
        "\n",
        "# Save the plot\n",
        "plt.savefig('voronoi_diagram.png')\n",
        "\n",
        "# Show the plot\n",
        "plt.show()\n"
      ],
      "metadata": {
        "id": "KCZ1fxVp4YeK"
      },
      "execution_count": null,
      "outputs": []
    },
    {
      "cell_type": "markdown",
      "source": [
        "This useful if you do not have dataset, and you want to create Veroni Diagram"
      ],
      "metadata": {
        "id": "eJkrkkGbvKIj"
      }
    },
    {
      "cell_type": "code",
      "source": [
        "\n",
        "# Generate random data points\n",
        "\n",
        "#make sure everytime the random is different\n",
        "np.random.seed(0)\n",
        "points = np.random.rand(10, 2)  # 10 random points in 2D space\n",
        "\n",
        "# Compute Voronoi tessellation\n",
        "vor = Voronoi(points)\n",
        "\n",
        "# Plot Voronoi diagram\n",
        "voronoi_plot_2d(vor, show_vertices=False)\n",
        "\n",
        "# Scatter plot of data points\n",
        "plt.scatter(points[:, 0], points[:, 1], c='blue', label='Data Points')\n",
        "\n",
        "# Add labels and legend\n",
        "plt.xlabel('X')\n",
        "plt.ylabel('Y')\n",
        "plt.title('Voronoi Diagram with Random Data Points')\n",
        "plt.legend()\n",
        "\n",
        "# Save the plot\n",
        "plt.savefig('random_voronoi_diagram.png')\n",
        "\n",
        "# Show the plot\n",
        "plt.show()\n"
      ],
      "metadata": {
        "id": "0PKRoAgM40Hu"
      },
      "execution_count": null,
      "outputs": []
    }
  ]
}