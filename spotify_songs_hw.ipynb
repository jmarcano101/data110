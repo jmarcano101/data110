{
  "metadata": {
    "kernelspec": {
      "language": "python",
      "display_name": "Python 3",
      "name": "python3"
    },
    "language_info": {
      "name": "python",
      "version": "3.10.13",
      "mimetype": "text/x-python",
      "codemirror_mode": {
        "name": "ipython",
        "version": 3
      },
      "pygments_lexer": "ipython3",
      "nbconvert_exporter": "python",
      "file_extension": ".py"
    },
    "kaggle": {
      "accelerator": "none",
      "dataSources": [
        {
          "sourceId": 3723559,
          "sourceType": "datasetVersion",
          "datasetId": 2125460
        }
      ],
      "dockerImageVersionId": 30646,
      "isInternetEnabled": false,
      "language": "python",
      "sourceType": "notebook",
      "isGpuEnabled": false
    },
    "colab": {
      "provenance": [],
      "include_colab_link": true
    }
  },
  "nbformat_minor": 0,
  "nbformat": 4,
  "cells": [
    {
      "cell_type": "markdown",
      "metadata": {
        "id": "view-in-github",
        "colab_type": "text"
      },
      "source": [
        "<a href=\"https://colab.research.google.com/github/jmarcano101/data110/blob/main/spotify_songs_hw.ipynb\" target=\"_parent\"><img src=\"https://colab.research.google.com/assets/colab-badge.svg\" alt=\"Open In Colab\"/></a>"
      ]
    },
    {
      "cell_type": "code",
      "source": [
        "import numpy as np\n",
        "import pandas as pd\n",
        "import matplotlib.pyplot as plt\n",
        "import plotly.express as px\n",
        "from plotly.offline import iplot, plot\n",
        "from plotly.subplots import make_subplots\n",
        "import warnings\n",
        "warnings.filterwarnings('ignore')"
      ],
      "metadata": {
        "execution": {
          "iopub.status.busy": "2024-02-26T20:38:37.609155Z",
          "iopub.execute_input": "2024-02-26T20:38:37.609591Z",
          "iopub.status.idle": "2024-02-26T20:38:39.749918Z",
          "shell.execute_reply.started": "2024-02-26T20:38:37.60954Z",
          "shell.execute_reply": "2024-02-26T20:38:39.748678Z"
        },
        "trusted": true,
        "id": "UdnJwUu2CDf5"
      },
      "execution_count": null,
      "outputs": []
    },
    {
      "source": [
        "!pip install pandas"
      ],
      "cell_type": "code",
      "metadata": {
        "id": "IRJbWdXcDwGQ"
      },
      "execution_count": null,
      "outputs": []
    },
    {
      "source": [
        "import pandas as pd"
      ],
      "cell_type": "code",
      "metadata": {
        "id": "TCIz-2gkDwbl"
      },
      "execution_count": null,
      "outputs": []
    },
    {
      "source": [
        "df = pd.read_csv('/content/spotifysongs (1) (1).csv')"
      ],
      "cell_type": "code",
      "metadata": {
        "id": "VuoXOIrCDwuU"
      },
      "execution_count": null,
      "outputs": []
    },
    {
      "cell_type": "code",
      "source": [
        "df.head()"
      ],
      "metadata": {
        "execution": {
          "iopub.status.busy": "2024-02-26T20:40:49.732041Z",
          "iopub.execute_input": "2024-02-26T20:40:49.732461Z",
          "iopub.status.idle": "2024-02-26T20:40:49.771973Z",
          "shell.execute_reply.started": "2024-02-26T20:40:49.732426Z",
          "shell.execute_reply": "2024-02-26T20:40:49.770666Z"
        },
        "trusted": true,
        "id": "_zPxpyyJCDf6"
      },
      "execution_count": null,
      "outputs": []
    },
    {
      "cell_type": "code",
      "source": [
        "df.info()"
      ],
      "metadata": {
        "execution": {
          "iopub.status.busy": "2024-02-26T20:41:37.905638Z",
          "iopub.execute_input": "2024-02-26T20:41:37.9061Z",
          "iopub.status.idle": "2024-02-26T20:41:37.939031Z",
          "shell.execute_reply.started": "2024-02-26T20:41:37.906067Z",
          "shell.execute_reply": "2024-02-26T20:41:37.937854Z"
        },
        "trusted": true,
        "id": "1OuWeAfOCDf6"
      },
      "execution_count": null,
      "outputs": []
    },
    {
      "cell_type": "markdown",
      "source": [
        "**There is no null vlues!**"
      ],
      "metadata": {
        "id": "jJsjQBUxCDf6"
      }
    },
    {
      "cell_type": "code",
      "source": [
        "df.describe()"
      ],
      "metadata": {
        "execution": {
          "iopub.status.busy": "2024-02-26T20:42:17.631831Z",
          "iopub.execute_input": "2024-02-26T20:42:17.632339Z",
          "iopub.status.idle": "2024-02-26T20:42:17.696503Z",
          "shell.execute_reply.started": "2024-02-26T20:42:17.632298Z",
          "shell.execute_reply": "2024-02-26T20:42:17.695386Z"
        },
        "trusted": true,
        "id": "d2rOtilXCDf6"
      },
      "execution_count": null,
      "outputs": []
    },
    {
      "cell_type": "markdown",
      "source": [
        "**Let's look into what each feature means:**\n",
        "- **artist**: Name of the Artist.\n",
        "- **song**: Name of the Track.\n",
        "- **duration_ms**: Duration of the track in milliseconds.\n",
        "- **explicit**: The lyrics or content of a song or a music video contain one or more of the criteria which could be considered offensive or unsuitable for children.\n",
        "- **year**: Release Year of the track.\n",
        "- **popularity**: The higher the value the more popular the song is.\n",
        "- **danceability**: Danceability describes how suitable a track is for dancing based on a combination of musical elements including tempo, rhythm stability, beat strength, and overall regularity. A value of 0.0 is least danceable and 1.0 is most danceable.\n",
        "- **energy**: Energy is a measure from 0.0 to 1.0 and represents a perceptual measure of intensity and activity.\n",
        "- **key**: The key the track is in. Integers map to pitches using standard Pitch Class notation. E.g. 0 = C, 1 = C♯/D♭, 2 = D, and so on. If no key was detected, the value is -1.\n",
        "- **loudness**: The overall loudness of a track in decibels (dB). Loudness values are averaged across the entire track and are useful for comparing relative loudness of tracks. Loudness is the quality of a sound that is the primary psychological correlate of physical strength (amplitude). Values typically range between -60 and 0 db.\n",
        "- **mode**: Mode indicates the modality (major or minor) of a track, the type of scale from which its melodic content is derived. Major is represented by 1 and minor is 0.\n",
        "- **speechiness**: Speechiness detects the presence of spoken words in a track. The more exclusively speech-like the recording (e.g. talk show, audio book, poetry), the closer to 1.0 the attribute value. Values above 0.66 describe tracks that are probably made entirely of spoken words. Values between 0.33 and 0.66 describe tracks that may contain both music and speech, either in sections or layered, including such cases as rap music. Values below 0.33 most likely represent music and other non-speech-like tracks.\n",
        "- **acousticness**: A confidence measure from 0.0 to 1.0 of whether the track is acoustic. 1.0 represents high confidence the track is acoustic.\n",
        "- **instrumentalness**: Predicts whether a track contains no vocals. \"Ooh\" and \"aah\" sounds are treated as instrumental in this context. Rap or spoken word tracks are clearly \"vocal\". The closer the instrumentalness value is to 1.0, the greater likelihood the track contains no vocal content. Values above 0.5 are intended to represent instrumental tracks, but confidence is higher as the value approaches 1.0.\n",
        "- **liveness**: Detects the presence of an audience in the recording. Higher liveness values represent an increased probability that the track was performed live. A value above 0.8 provides strong likelihood that the track is live.\n",
        "- **valence**: A measure from 0.0 to 1.0 describing the musical positiveness conveyed by a track. Tracks with high valence sound more positive (e.g. happy, cheerful, euphoric), while tracks with low valence sound more negative (e.g. sad, depressed, angry).\n",
        "- **tempo**: The overall estimated tempo of a track in beats per minute (BPM). In musical terminology, tempo is the speed or pace of a given piece and derives directly from the average beat duration.\n",
        "- **genre**: Genre of the track."
      ],
      "metadata": {
        "id": "Vx8ndcRUCDf6"
      }
    },
    {
      "cell_type": "markdown",
      "source": [
        "## Analysis && Visualization"
      ],
      "metadata": {
        "id": "MbMwZGUTCDf6"
      }
    },
    {
      "cell_type": "markdown",
      "source": [
        "**Query Number 1: How many songs we have from each year?**"
      ],
      "metadata": {
        "id": "Yl60SnBtCDf6"
      }
    },
    {
      "cell_type": "code",
      "source": [
        "songs_per_years = df['year'].value_counts().sort_index()\n",
        "\n",
        "iplot(px.bar(songs_per_years,\n",
        "            title='Number of songs per year',\n",
        "            text_auto=True,\n",
        "            labels=dict(index='year', value='number of songs'),\n",
        "            color_discrete_sequence=['#1DB954']\n",
        "            ).update_xaxes(type='category'))"
      ],
      "metadata": {
        "execution": {
          "iopub.status.busy": "2024-02-26T20:54:37.127743Z",
          "iopub.execute_input": "2024-02-26T20:54:37.128151Z",
          "iopub.status.idle": "2024-02-26T20:54:39.268285Z",
          "shell.execute_reply.started": "2024-02-26T20:54:37.128121Z",
          "shell.execute_reply": "2024-02-26T20:54:39.26682Z"
        },
        "trusted": true,
        "id": "P7dExnzjCDf7"
      },
      "execution_count": null,
      "outputs": []
    },
    {
      "cell_type": "markdown",
      "source": [
        "**Query Number 2: All the artists in this list**"
      ],
      "metadata": {
        "id": "DXdeq7zqCDf7"
      }
    },
    {
      "cell_type": "code",
      "source": [
        "print(f\"There are about [{df['artist'].nunique()}] artists.\")"
      ],
      "metadata": {
        "execution": {
          "iopub.status.busy": "2024-02-26T20:58:19.33997Z",
          "iopub.execute_input": "2024-02-26T20:58:19.340412Z",
          "iopub.status.idle": "2024-02-26T20:58:19.347286Z",
          "shell.execute_reply.started": "2024-02-26T20:58:19.340377Z",
          "shell.execute_reply": "2024-02-26T20:58:19.345994Z"
        },
        "trusted": true,
        "id": "kF_mln1kCDf7"
      },
      "execution_count": null,
      "outputs": []
    },
    {
      "cell_type": "code",
      "source": [
        "artists = df['artist'].value_counts()\n",
        "artists.head()"
      ],
      "metadata": {
        "execution": {
          "iopub.status.busy": "2024-02-26T20:59:10.207654Z",
          "iopub.execute_input": "2024-02-26T20:59:10.20804Z",
          "iopub.status.idle": "2024-02-26T20:59:10.2203Z",
          "shell.execute_reply.started": "2024-02-26T20:59:10.208012Z",
          "shell.execute_reply": "2024-02-26T20:59:10.218986Z"
        },
        "trusted": true,
        "id": "luo0jHAxCDf7"
      },
      "execution_count": null,
      "outputs": []
    },
    {
      "cell_type": "markdown",
      "source": [
        "**We have a total of 835, Let's explore the top**"
      ],
      "metadata": {
        "id": "UAAHvmKnCDf7"
      }
    },
    {
      "cell_type": "code",
      "source": [
        "iplot(px.pie(values=[artists[:50].sum(), 2000-artists[:50].sum()],\n",
        "            names=['top 50 artists', f'other{835-50} artists'],\n",
        "            title='How many songs do the top 50 artists have?',\n",
        "            color_discrete_sequence=['#4287f5', '#f54287']\n",
        "            ).update_traces(textinfo='value+percent'))"
      ],
      "metadata": {
        "execution": {
          "iopub.status.busy": "2024-02-26T21:08:03.752895Z",
          "iopub.execute_input": "2024-02-26T21:08:03.753289Z",
          "iopub.status.idle": "2024-02-26T21:08:04.528015Z",
          "shell.execute_reply.started": "2024-02-26T21:08:03.75326Z",
          "shell.execute_reply": "2024-02-26T21:08:04.527116Z"
        },
        "trusted": true,
        "id": "-OOJyhxJCDf7"
      },
      "execution_count": null,
      "outputs": []
    },
    {
      "cell_type": "markdown",
      "source": [
        "**Query Number 3: No. of artists with only 1 song VS artists with more than 1**"
      ],
      "metadata": {
        "id": "ejWY-86RCDf7"
      }
    },
    {
      "cell_type": "code",
      "source": [
        "artists_with_one_song = artists.loc[lambda x: x==1]\n",
        "iplot(px.pie(values=[len(artists_with_one_song), len(artists)-len(artists_with_one_song)],\n",
        "            names=['1 song', '> 1 song'],\n",
        "            title=\"Artists with 1 top hit VS Artitsts with > 1 top hit\",\n",
        "            color_discrete_sequence=['#4287f5', '#f54287']\n",
        "            ).update_traces(textinfo='label+percent'))"
      ],
      "metadata": {
        "execution": {
          "iopub.status.busy": "2024-02-26T21:12:28.041962Z",
          "iopub.execute_input": "2024-02-26T21:12:28.042417Z",
          "iopub.status.idle": "2024-02-26T21:12:28.132439Z",
          "shell.execute_reply.started": "2024-02-26T21:12:28.042382Z",
          "shell.execute_reply": "2024-02-26T21:12:28.131292Z"
        },
        "trusted": true,
        "id": "4-pDJz_vCDf7"
      },
      "execution_count": null,
      "outputs": []
    },
    {
      "cell_type": "markdown",
      "source": [
        "**Query Number 4: Top 10 Artists with the average popularity of their songs**"
      ],
      "metadata": {
        "id": "uwH1-PunCDf7"
      }
    },
    {
      "cell_type": "code",
      "source": [
        "artist_df = df[['artist', 'popularity']].groupby('artist').mean().sort_values(by='artist')\n",
        "artists = artists.sort_index()\n",
        "artist_df['total songs'] = artists.values\n",
        "artist_df.sort_values(by='total songs', ascending=False, inplace=True)\n",
        "artist_df.reset_index(inplace=True)\n",
        "\n",
        "iplot(px.scatter(artist_df[:10],\n",
        "                x='artist',\n",
        "                y='popularity',\n",
        "                size='total songs',\n",
        "                size_max=40,\n",
        "                color='popularity',\n",
        "                title='Top 10 artists VS Average popularity of their top hits',\n",
        "                hover_name='total songs'\n",
        "                ))"
      ],
      "metadata": {
        "execution": {
          "iopub.status.busy": "2024-02-26T21:20:06.237738Z",
          "iopub.execute_input": "2024-02-26T21:20:06.23816Z",
          "iopub.status.idle": "2024-02-26T21:20:06.413826Z",
          "shell.execute_reply.started": "2024-02-26T21:20:06.238127Z",
          "shell.execute_reply": "2024-02-26T21:20:06.412464Z"
        },
        "trusted": true,
        "id": "yzKIaUnrCDf7"
      },
      "execution_count": null,
      "outputs": []
    },
    {
      "cell_type": "markdown",
      "source": [
        "**Query Number 5: How has the average duration of songs changed through the years?**"
      ],
      "metadata": {
        "id": "taCYaeb2CDf7"
      }
    },
    {
      "cell_type": "code",
      "source": [
        "df['year'].value_counts().sort_values()"
      ],
      "metadata": {
        "execution": {
          "iopub.status.busy": "2024-02-26T21:21:38.067901Z",
          "iopub.execute_input": "2024-02-26T21:21:38.068294Z",
          "iopub.status.idle": "2024-02-26T21:21:38.078423Z",
          "shell.execute_reply.started": "2024-02-26T21:21:38.068265Z",
          "shell.execute_reply": "2024-02-26T21:21:38.077236Z"
        },
        "trusted": true,
        "id": "NH1I6TKZCDf7"
      },
      "execution_count": null,
      "outputs": []
    },
    {
      "cell_type": "code",
      "source": [
        "# Function to convert duration in ms into min: sec\n",
        "def ms_to_minsec(ms):\n",
        "    sec = ms / 1000\n",
        "    return f\"{int(sec // 60)}:{int(sec % 60)}\"\n",
        "\n",
        "# Skip the years 1998 and 1999\n",
        "durations = df[['duration_ms', 'year']].groupby('year').mean().reset_index().iloc[2:]\n",
        "\n",
        "# Convert duration in ms into seconds\n",
        "durations['duration_s'] = durations['duration_ms'] / 1000\n",
        "\n",
        "# Apply ms_to_minsec function\n",
        "durations['min:sec'] = durations['duration_ms'].apply(ms_to_minsec)\n",
        "\n",
        "# Plot\n",
        "iplot(px.line(durations,\n",
        "             x='year',\n",
        "             y='duration_s',\n",
        "             title='average song duration over the years',\n",
        "             text='min:sec'\n",
        "             ).update_xaxes(type='category').update_traces(textposition='top right'))"
      ],
      "metadata": {
        "execution": {
          "iopub.status.busy": "2024-02-26T21:33:45.179983Z",
          "iopub.execute_input": "2024-02-26T21:33:45.180938Z",
          "iopub.status.idle": "2024-02-26T21:33:45.306369Z",
          "shell.execute_reply.started": "2024-02-26T21:33:45.180901Z",
          "shell.execute_reply": "2024-02-26T21:33:45.305224Z"
        },
        "trusted": true,
        "id": "uZahB2FFCDf7"
      },
      "execution_count": null,
      "outputs": []
    },
    {
      "cell_type": "markdown",
      "source": [
        "**Query Number 6: Longest song VS Shortest song**"
      ],
      "metadata": {
        "id": "awXWmcMXCDf7"
      }
    },
    {
      "cell_type": "code",
      "source": [
        "asdy = df.loc[:, ['artist', 'song', 'duration_ms', 'year']]\n",
        "asdy['min:sec'] = asdy['duration_ms'].apply(ms_to_minsec)"
      ],
      "metadata": {
        "execution": {
          "iopub.status.busy": "2024-02-26T21:36:39.153868Z",
          "iopub.execute_input": "2024-02-26T21:36:39.154251Z",
          "iopub.status.idle": "2024-02-26T21:36:39.164066Z",
          "shell.execute_reply.started": "2024-02-26T21:36:39.154222Z",
          "shell.execute_reply": "2024-02-26T21:36:39.163001Z"
        },
        "trusted": true,
        "id": "eupOD7u-CDf8"
      },
      "execution_count": null,
      "outputs": []
    },
    {
      "cell_type": "code",
      "source": [
        "# Longest song\n",
        "asdy[asdy.duration_ms == asdy.duration_ms.max()]"
      ],
      "metadata": {
        "execution": {
          "iopub.status.busy": "2024-02-26T21:36:45.339939Z",
          "iopub.execute_input": "2024-02-26T21:36:45.34031Z",
          "iopub.status.idle": "2024-02-26T21:36:45.353871Z",
          "shell.execute_reply.started": "2024-02-26T21:36:45.340283Z",
          "shell.execute_reply": "2024-02-26T21:36:45.352521Z"
        },
        "trusted": true,
        "id": "qHvuG9qdCDf8"
      },
      "execution_count": null,
      "outputs": []
    },
    {
      "cell_type": "code",
      "source": [
        "# Shortest song\n",
        "asdy[asdy.duration_ms == asdy.duration_ms.min()]"
      ],
      "metadata": {
        "execution": {
          "iopub.status.busy": "2024-02-26T21:37:34.317247Z",
          "iopub.execute_input": "2024-02-26T21:37:34.317649Z",
          "iopub.status.idle": "2024-02-26T21:37:34.331641Z",
          "shell.execute_reply.started": "2024-02-26T21:37:34.317612Z",
          "shell.execute_reply": "2024-02-26T21:37:34.330359Z"
        },
        "trusted": true,
        "id": "TaFcD-u2CDf8"
      },
      "execution_count": null,
      "outputs": []
    },
    {
      "cell_type": "markdown",
      "source": [
        "**Query Number 7: Explicit VS Clean over the years**"
      ],
      "metadata": {
        "id": "UAyYQXt_CDf8"
      }
    },
    {
      "cell_type": "code",
      "source": [
        "iplot(px.pie(df['explicit'].value_counts().reset_index(),\n",
        "            values='explicit',\n",
        "            names=['Clean', 'Explicit'],\n",
        "            title='Explicit or not?',\n",
        "            color_discrete_sequence=['cornflowerblue', 'crimson']\n",
        "            ).update_traces(textinfo='label+percent'))"
      ],
      "metadata": {
        "execution": {
          "iopub.status.busy": "2024-02-26T21:40:06.954777Z",
          "iopub.execute_input": "2024-02-26T21:40:06.955183Z",
          "iopub.status.idle": "2024-02-26T21:40:07.067832Z",
          "shell.execute_reply.started": "2024-02-26T21:40:06.955153Z",
          "shell.execute_reply": "2024-02-26T21:40:07.066667Z"
        },
        "trusted": true,
        "id": "ZRqSkBo7CDf8"
      },
      "execution_count": null,
      "outputs": []
    },
    {
      "cell_type": "code",
      "source": [
        "year_explicit = df.groupby(['year', 'explicit']).size().unstack(fill_value=0).reset_index()\n",
        "year_explicit.rename(columns={False: 'Clean', True: 'Explicit'}, inplace=True)\n",
        "\n",
        "iplot(px.bar(year_explicit,\n",
        "            y=['Clean', 'Explicit'],\n",
        "            x='year',\n",
        "            title='Explicit VS Clean distribution each year',\n",
        "            color_discrete_sequence=['cornflowerblue', 'crimson']\n",
        "            ).update_xaxes(type='category'))"
      ],
      "metadata": {
        "execution": {
          "iopub.status.busy": "2024-02-26T21:43:51.167604Z",
          "iopub.execute_input": "2024-02-26T21:43:51.167996Z",
          "iopub.status.idle": "2024-02-26T21:43:51.287562Z",
          "shell.execute_reply.started": "2024-02-26T21:43:51.167967Z",
          "shell.execute_reply": "2024-02-26T21:43:51.286267Z"
        },
        "trusted": true,
        "id": "K36mNlguCDf8"
      },
      "execution_count": null,
      "outputs": []
    },
    {
      "cell_type": "markdown",
      "source": [
        "**Query Number 8: Pitch Class Notation - Key**"
      ],
      "metadata": {
        "id": "Td4DrQhqCDf8"
      }
    },
    {
      "cell_type": "markdown",
      "source": [
        "- **In music, the key determines the set of notes and chords that are commonly used in a piece of music.**"
      ],
      "metadata": {
        "id": "NXTu3hjWCDf8"
      }
    },
    {
      "cell_type": "code",
      "source": [
        "iplot(px.pie(df['key'].value_counts().reset_index(),\n",
        "            names=r'C C♯/D♭ D E♭/D♯ E F F♯/G♭ G A♭/G♯ A B♭/A♯ B'.split(),\n",
        "            values='key',\n",
        "            color_discrete_sequence = px.colors.qualitative.Set3,\n",
        "           title='Key Distribution'\n",
        "          ).update_traces(textinfo='label+percent'))"
      ],
      "metadata": {
        "execution": {
          "iopub.status.busy": "2024-02-26T21:58:07.98255Z",
          "iopub.execute_input": "2024-02-26T21:58:07.983084Z",
          "iopub.status.idle": "2024-02-26T21:58:08.07966Z",
          "shell.execute_reply.started": "2024-02-26T21:58:07.983045Z",
          "shell.execute_reply": "2024-02-26T21:58:08.078058Z"
        },
        "trusted": true,
        "id": "G04wHcAICDf8"
      },
      "execution_count": null,
      "outputs": []
    },
    {
      "cell_type": "markdown",
      "source": [
        "**Query Number 9: Major and Minor of a track - mode**"
      ],
      "metadata": {
        "id": "-wTEhZX9CDf8"
      }
    },
    {
      "cell_type": "markdown",
      "source": [
        "- **In music theory, the mode refers to the overall tonal quality or mood of a piece of music, and it is typically categorized into two main modes: major and minor.**"
      ],
      "metadata": {
        "id": "iGLb9bwhCDf8"
      }
    },
    {
      "cell_type": "code",
      "source": [
        "iplot(px.pie(df['mode'].value_counts().reset_index(),\n",
        "       names=['major','minor'],\n",
        "       values='mode',\n",
        "       color_discrete_sequence = px.colors.qualitative.Pastel2,\n",
        "       title='Major/Minor Distribution'\n",
        "      ).update_traces(textinfo='label+percent'))"
      ],
      "metadata": {
        "execution": {
          "iopub.status.busy": "2024-02-26T21:59:44.22069Z",
          "iopub.execute_input": "2024-02-26T21:59:44.221091Z",
          "iopub.status.idle": "2024-02-26T21:59:44.311892Z",
          "shell.execute_reply.started": "2024-02-26T21:59:44.22106Z",
          "shell.execute_reply": "2024-02-26T21:59:44.310662Z"
        },
        "trusted": true,
        "id": "5Emc8DURCDf8"
      },
      "execution_count": null,
      "outputs": []
    },
    {
      "cell_type": "markdown",
      "source": [
        "**Query Number 10: Major VS Minor in each Key**"
      ],
      "metadata": {
        "id": "h07SPj-4CDgB"
      }
    },
    {
      "cell_type": "code",
      "source": [
        "key_mode = df.groupby(['key', 'mode']).size().unstack(fill_value=0).reset_index()\n",
        "key_names = r'C C♯/D♭ D E♭/D♯ E F F♯/G♭ G A♭/G♯ A B♭/A♯ B'.split()\n",
        "key_mode.rename(columns={0:'minor',1:'major'}, inplace=True)\n",
        "key_mode['key name'] = key_names\n",
        "\n",
        "iplot(px.bar(key_mode,\n",
        "            x='key name',\n",
        "            y=['major', 'minor'],\n",
        "            color_discrete_sequence=px.colors.qualitative.Pastel2,\n",
        "           title='Major vs Minor per key'\n",
        "          ))"
      ],
      "metadata": {
        "execution": {
          "iopub.status.busy": "2024-02-26T22:02:54.325272Z",
          "iopub.execute_input": "2024-02-26T22:02:54.325926Z",
          "iopub.status.idle": "2024-02-26T22:02:54.445218Z",
          "shell.execute_reply.started": "2024-02-26T22:02:54.325894Z",
          "shell.execute_reply": "2024-02-26T22:02:54.443979Z"
        },
        "trusted": true,
        "id": "RpiSM0gDCDgB"
      },
      "execution_count": null,
      "outputs": []
    },
    {
      "cell_type": "markdown",
      "source": [
        "**Query Number 11: Distribution**"
      ],
      "metadata": {
        "id": "R4RmtbE7CDgB"
      }
    },
    {
      "cell_type": "code",
      "source": [
        "histogram_labels = ['popularity',\n",
        "                    'danceability',\n",
        "                    'energy',\n",
        "                    'speechiness',\n",
        "                    'loudness',\n",
        "                    'acousticness',\n",
        "                    'liveness',\n",
        "                    'instrumentalness',\n",
        "                    'valence',\n",
        "                    'tempo'\n",
        "                   ]\n",
        "\n",
        "colors = px.colors.qualitative.Vivid\n",
        "for i in range(len(histogram_labels)):\n",
        "    fig = px.histogram(df,\n",
        "                       histogram_labels[i],\n",
        "                       title=f'{histogram_labels[i]} distribution in top hits',\n",
        "                       color_discrete_sequence=[colors[i]]\n",
        "                      )\n",
        "    iplot(fig)"
      ],
      "metadata": {
        "execution": {
          "iopub.status.busy": "2024-02-26T22:04:31.877299Z",
          "iopub.execute_input": "2024-02-26T22:04:31.87777Z",
          "iopub.status.idle": "2024-02-26T22:04:32.849985Z",
          "shell.execute_reply.started": "2024-02-26T22:04:31.877736Z",
          "shell.execute_reply": "2024-02-26T22:04:32.84878Z"
        },
        "trusted": true,
        "id": "Mduie4itCDgB"
      },
      "execution_count": null,
      "outputs": []
    },
    {
      "cell_type": "markdown",
      "source": [
        "**Query Number 12: Genres**"
      ],
      "metadata": {
        "id": "p1n1AImiCDgB"
      }
    },
    {
      "cell_type": "code",
      "source": [
        "def split_genres(genre):\n",
        "    g = genre.replace(\" \", '').split(',')\n",
        "    g = [t for t in g if t != 'set()']\n",
        "    return g\n",
        "\n",
        "def flatten(t):\n",
        "    return [item for sublist in t for item in sublist]\n",
        "\n",
        "def remove_duplicates(l):\n",
        "    res = []\n",
        "    l = [res.append(x) for x in l if x not in res]\n",
        "    return res\n",
        "\n",
        "all_genres = remove_duplicates(flatten(list(df['genre'].apply(split_genres))))\n",
        "\n",
        "genre_count = {genre: 0 for genre in all_genres}\n",
        "\n",
        "for song in list(df['genre']):\n",
        "    for genre in split_genres(song):\n",
        "        genre_count[genre]+=1\n"
      ],
      "metadata": {
        "execution": {
          "iopub.status.busy": "2024-02-26T22:09:28.13703Z",
          "iopub.execute_input": "2024-02-26T22:09:28.137437Z",
          "iopub.status.idle": "2024-02-26T22:09:28.160064Z",
          "shell.execute_reply.started": "2024-02-26T22:09:28.137401Z",
          "shell.execute_reply": "2024-02-26T22:09:28.158565Z"
        },
        "trusted": true,
        "id": "yP5ZtDICCDgB"
      },
      "execution_count": null,
      "outputs": []
    },
    {
      "cell_type": "code",
      "source": [
        "iplot(px.pie(names=genre_count.keys(),\n",
        "       values=[genre_count[key] for key in genre_count.keys()],\n",
        "       title=\"Genre Distribution\"\n",
        "      ).update_traces(textinfo='label+percent'))"
      ],
      "metadata": {
        "execution": {
          "iopub.status.busy": "2024-02-26T22:09:36.53599Z",
          "iopub.execute_input": "2024-02-26T22:09:36.536717Z",
          "iopub.status.idle": "2024-02-26T22:09:36.62398Z",
          "shell.execute_reply.started": "2024-02-26T22:09:36.536682Z",
          "shell.execute_reply": "2024-02-26T22:09:36.622811Z"
        },
        "trusted": true,
        "id": "LPka1khhCDgB"
      },
      "execution_count": null,
      "outputs": []
    }
  ]
}